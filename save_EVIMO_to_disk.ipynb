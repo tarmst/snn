{
 "cells": [
  {
   "cell_type": "code",
   "execution_count": 1,
   "id": "b07f41c0-1987-4034-84c6-08060c2143da",
   "metadata": {},
   "outputs": [],
   "source": [
    "import numpy as np\n",
    "import tonic\n",
    "import tonic.transforms as transforms\n",
    "import pandas as pd\n",
    "from torch.utils.data import Dataset, DataLoader\n",
    "#from tonic.dataset import Dataset\n",
    "from typing import Callable, Optional\n",
    "import torch\n",
    "import matplotlib.pyplot as plt\n",
    "from torchvision.ops import masks_to_boxes\n",
    "from torchvision.utils import draw_bounding_boxes\n",
    "import matplotlib.patches as patches"
   ]
  },
  {
   "cell_type": "code",
   "execution_count": 2,
   "id": "ebd4ad28-e9d1-47ec-85b4-6cdbb1a4b705",
   "metadata": {},
   "outputs": [],
   "source": [
    "#main_dir = \"/media/user/EVIMO/packaged/npz/left_camera/imo/eval\" #\"/media/user/EVIMO/raw/imo/eval/\"\n",
    "#scene_dir = \"scene13_dyn_test_00_\" # scene15_dyn_test01\n",
    "#sub_dir = \"left_camera/ground_truth_000000\"\n",
    "#dir = main_dir + scene_dir + sub_dir\n",
    "dir = \"/media/user/EVIMO/packaged/npz/left_camera/imo/eval/scene13_dyn_test_05_000000\"\n",
    "\n",
    "save_to_dir = \"./data/EVIMO/left_cam/scene13_test5\"\n",
    "sensor_size = [640, 480, 2]\n",
    "batch_size = 4\n",
    "framerate = 200\n",
    "device = 'cpu'"
   ]
  },
  {
   "cell_type": "code",
   "execution_count": 3,
   "id": "61a99f43-a5a2-4294-97f8-97dcf9783079",
   "metadata": {},
   "outputs": [],
   "source": [
    "xy = np.load(dir + \"/dataset_events_xy.npy\")\n",
    "polarity = np.load(dir + \"/dataset_events_p.npy\")\n",
    "time = np.load(dir + \"/dataset_events_t.npy\")"
   ]
  },
  {
   "cell_type": "code",
   "execution_count": 4,
   "id": "a2a1b9c9-aa39-412e-830b-40577cd841c7",
   "metadata": {},
   "outputs": [
    {
     "name": "stdout",
     "output_type": "stream",
     "text": [
      "(11925919, 2) uint16\n",
      "(11925919,) float32\n",
      "(11925919,) uint8\n"
     ]
    }
   ],
   "source": [
    "print(xy.shape, xy.dtype)\n",
    "print(time.shape, time.dtype)\n",
    "print(polarity.shape, polarity.dtype)"
   ]
  },
  {
   "cell_type": "code",
   "execution_count": 5,
   "id": "350257c0-e9c0-4490-9aeb-d2d63c15ab0c",
   "metadata": {},
   "outputs": [],
   "source": [
    "df = pd.DataFrame(columns=[\"x\", \"y\", \"t\", \"p\"])\n",
    "df[\"x\"] = xy[:, 0]\n",
    "df[\"y\"] = xy[:, 1]\n",
    "df[\"t\"] = time\n",
    "df[\"p\"] = polarity"
   ]
  },
  {
   "cell_type": "code",
   "execution_count": 6,
   "id": "5d50313c-0bf3-450b-99bc-1af45cf25464",
   "metadata": {},
   "outputs": [],
   "source": [
    "# Convert timestamp from seconds into microseconds\n",
    "#df[\"t\"] = df[\"t\"].apply(lambda t: t * 1000000)"
   ]
  },
  {
   "cell_type": "code",
   "execution_count": 7,
   "id": "5256e71c-7f78-4fdd-a4c4-d031e0bae93f",
   "metadata": {},
   "outputs": [
    {
     "data": {
      "text/html": [
       "<div>\n",
       "<style scoped>\n",
       "    .dataframe tbody tr th:only-of-type {\n",
       "        vertical-align: middle;\n",
       "    }\n",
       "\n",
       "    .dataframe tbody tr th {\n",
       "        vertical-align: top;\n",
       "    }\n",
       "\n",
       "    .dataframe thead th {\n",
       "        text-align: right;\n",
       "    }\n",
       "</style>\n",
       "<table border=\"1\" class=\"dataframe\">\n",
       "  <thead>\n",
       "    <tr style=\"text-align: right;\">\n",
       "      <th></th>\n",
       "      <th>x</th>\n",
       "      <th>y</th>\n",
       "      <th>t</th>\n",
       "      <th>p</th>\n",
       "    </tr>\n",
       "  </thead>\n",
       "  <tbody>\n",
       "    <tr>\n",
       "      <th>0</th>\n",
       "      <td>106</td>\n",
       "      <td>385</td>\n",
       "      <td>2.250000</td>\n",
       "      <td>1</td>\n",
       "    </tr>\n",
       "    <tr>\n",
       "      <th>1</th>\n",
       "      <td>147</td>\n",
       "      <td>385</td>\n",
       "      <td>2.250000</td>\n",
       "      <td>1</td>\n",
       "    </tr>\n",
       "    <tr>\n",
       "      <th>2</th>\n",
       "      <td>124</td>\n",
       "      <td>384</td>\n",
       "      <td>2.250000</td>\n",
       "      <td>1</td>\n",
       "    </tr>\n",
       "    <tr>\n",
       "      <th>3</th>\n",
       "      <td>217</td>\n",
       "      <td>384</td>\n",
       "      <td>2.250000</td>\n",
       "      <td>0</td>\n",
       "    </tr>\n",
       "    <tr>\n",
       "      <th>4</th>\n",
       "      <td>323</td>\n",
       "      <td>386</td>\n",
       "      <td>2.250000</td>\n",
       "      <td>1</td>\n",
       "    </tr>\n",
       "    <tr>\n",
       "      <th>...</th>\n",
       "      <td>...</td>\n",
       "      <td>...</td>\n",
       "      <td>...</td>\n",
       "      <td>...</td>\n",
       "    </tr>\n",
       "    <tr>\n",
       "      <th>11925914</th>\n",
       "      <td>631</td>\n",
       "      <td>218</td>\n",
       "      <td>4.689997</td>\n",
       "      <td>1</td>\n",
       "    </tr>\n",
       "    <tr>\n",
       "      <th>11925915</th>\n",
       "      <td>631</td>\n",
       "      <td>218</td>\n",
       "      <td>4.689997</td>\n",
       "      <td>1</td>\n",
       "    </tr>\n",
       "    <tr>\n",
       "      <th>11925916</th>\n",
       "      <td>33</td>\n",
       "      <td>398</td>\n",
       "      <td>4.689997</td>\n",
       "      <td>1</td>\n",
       "    </tr>\n",
       "    <tr>\n",
       "      <th>11925917</th>\n",
       "      <td>194</td>\n",
       "      <td>266</td>\n",
       "      <td>4.689998</td>\n",
       "      <td>0</td>\n",
       "    </tr>\n",
       "    <tr>\n",
       "      <th>11925918</th>\n",
       "      <td>2</td>\n",
       "      <td>370</td>\n",
       "      <td>4.689999</td>\n",
       "      <td>1</td>\n",
       "    </tr>\n",
       "  </tbody>\n",
       "</table>\n",
       "<p>11925919 rows × 4 columns</p>\n",
       "</div>"
      ],
      "text/plain": [
       "            x    y         t  p\n",
       "0         106  385  2.250000  1\n",
       "1         147  385  2.250000  1\n",
       "2         124  384  2.250000  1\n",
       "3         217  384  2.250000  0\n",
       "4         323  386  2.250000  1\n",
       "...       ...  ...       ... ..\n",
       "11925914  631  218  4.689997  1\n",
       "11925915  631  218  4.689997  1\n",
       "11925916   33  398  4.689997  1\n",
       "11925917  194  266  4.689998  0\n",
       "11925918    2  370  4.689999  1\n",
       "\n",
       "[11925919 rows x 4 columns]"
      ]
     },
     "execution_count": 7,
     "metadata": {},
     "output_type": "execute_result"
    }
   ],
   "source": [
    "df"
   ]
  },
  {
   "cell_type": "code",
   "execution_count": 8,
   "id": "e256cf7a-140e-40ce-bfe0-95da041c5ce3",
   "metadata": {},
   "outputs": [],
   "source": [
    "dataset_info = dict(np.load(dir + \"/dataset_info.npz\", allow_pickle=True))"
   ]
  },
  {
   "cell_type": "code",
   "execution_count": 9,
   "id": "d3d20adc-bee3-427f-ab4b-7a0287b040ae",
   "metadata": {},
   "outputs": [],
   "source": [
    "frames = dataset_info[\"meta\"].tolist()[\"frames\"]"
   ]
  },
  {
   "cell_type": "code",
   "execution_count": 10,
   "id": "30e9bebf-2510-4d8c-8bf1-4ebb8a0c772e",
   "metadata": {},
   "outputs": [],
   "source": [
    "dataset_masks = dict(np.load(dir + \"/dataset_mask.npz\", allow_pickle=True))"
   ]
  },
  {
   "cell_type": "markdown",
   "id": "d28bb8a8-e5f9-4553-b884-d15b30871ea9",
   "metadata": {},
   "source": [
    "What this is: masks are not always available. Sometimes they just don't exist. Also, the time associated for each mask differs. Therefore, I will need to line up masks with timestamps and bin the data differently and by hand"
   ]
  },
  {
   "cell_type": "code",
   "execution_count": 11,
   "id": "0d6831ae-1804-4f63-8bcb-35e07b160db5",
   "metadata": {},
   "outputs": [],
   "source": [
    "num_bins_per_frame = 4\n",
    "dataset = []\n",
    "\n",
    "for i in range(len(frames)-1):\n",
    "    frame = frames[i]\n",
    "    start_timestamp = frame[\"ts\"]\n",
    "    end_timestamp = frames[i+1][\"ts\"]\n",
    "    mask_name = \"mask_0000000{:03d}\".format(i)\n",
    "    if mask_name in dataset_masks:\n",
    "        #print(start_timestamp, end_timestamp)\n",
    "        mask = dataset_masks[mask_name]/1000\n",
    "        objs_in_mask = np.unique(mask)\n",
    "        \n",
    "        events = df[(df.t >= start_timestamp) & (df.t < end_timestamp)].to_records(index=False)\n",
    "\n",
    "        transform = transforms.ToFrame(sensor_size=sensor_size, n_event_bins=num_bins_per_frame)\n",
    "        events = transform(events)\n",
    "        \n",
    "        data = {\"id\": i, \"start_timestamp\": start_timestamp, \"end_timestamp\": end_timestamp,\n",
    "               \"objs_in_mask\": objs_in_mask, \"mask\": mask, \"binned_events\": events}\n",
    "        dataset.append(data)\n",
    "        "
   ]
  },
  {
   "cell_type": "code",
   "execution_count": 12,
   "id": "ce9028e3-b4ff-4705-80ba-8698013d2e1f",
   "metadata": {},
   "outputs": [],
   "source": [
    "for i, data in enumerate(dataset):\n",
    "    np.save(save_to_dir + \"/\" + str(i), data, allow_pickle=True)"
   ]
  },
  {
   "cell_type": "code",
   "execution_count": 13,
   "id": "ae36cf6b-5b6c-4ff7-bcbf-1bac94bc3991",
   "metadata": {},
   "outputs": [],
   "source": [
    "np.save(save_to_dir + \"/length\", len(dataset))"
   ]
  },
  {
   "cell_type": "code",
   "execution_count": 14,
   "id": "24100f7a-e994-4900-b9d1-464d89230541",
   "metadata": {},
   "outputs": [],
   "source": [
    "#targets = np.asarray([[0, 1] if 23 in m else [1, 0] for m in masks])"
   ]
  },
  {
   "cell_type": "code",
   "execution_count": 15,
   "id": "9e4faee6-5859-4971-a3ff-2f854ac1d3ab",
   "metadata": {},
   "outputs": [],
   "source": [
    "#targets.shape"
   ]
  },
  {
   "cell_type": "code",
   "execution_count": 16,
   "id": "12c67a5b-f6e0-45dc-bedf-5b5541a3ffe6",
   "metadata": {},
   "outputs": [],
   "source": [
    "#for i, binned_event in enumerate(binned_events):\n",
    "#    np.save(save_to_dir + \"/\" + str(i), binned_event)"
   ]
  },
  {
   "cell_type": "code",
   "execution_count": 17,
   "id": "30717749-f6fb-406f-a0d6-27174e2d7902",
   "metadata": {},
   "outputs": [],
   "source": [
    "#np.save(save_to_dir + \"/labels\", targets)"
   ]
  },
  {
   "cell_type": "code",
   "execution_count": null,
   "id": "f6498aaa-f28e-4785-b74a-c32a7b6ac4ec",
   "metadata": {},
   "outputs": [],
   "source": []
  }
 ],
 "metadata": {
  "kernelspec": {
   "display_name": "Python 3 (ipykernel)",
   "language": "python",
   "name": "python3"
  },
  "language_info": {
   "codemirror_mode": {
    "name": "ipython",
    "version": 3
   },
   "file_extension": ".py",
   "mimetype": "text/x-python",
   "name": "python",
   "nbconvert_exporter": "python",
   "pygments_lexer": "ipython3",
   "version": "3.10.12"
  }
 },
 "nbformat": 4,
 "nbformat_minor": 5
}
