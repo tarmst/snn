{
 "cells": [
  {
   "cell_type": "code",
   "execution_count": 1,
   "id": "b07f41c0-1987-4034-84c6-08060c2143da",
   "metadata": {},
   "outputs": [],
   "source": [
    "import numpy as np\n",
    "import tonic\n",
    "import tonic.transforms as transforms\n",
    "import pandas as pd\n",
    "from torch.utils.data import Dataset, DataLoader\n",
    "#from tonic.dataset import Dataset\n",
    "from typing import Callable, Optional\n",
    "import torch\n",
    "import matplotlib.pyplot as plt\n",
    "from torchvision.ops import masks_to_boxes\n",
    "from torchvision.utils import draw_bounding_boxes\n",
    "import matplotlib.patches as patches"
   ]
  },
  {
   "cell_type": "code",
   "execution_count": 23,
   "id": "ebd4ad28-e9d1-47ec-85b4-6cdbb1a4b705",
   "metadata": {},
   "outputs": [],
   "source": [
    "dir = \"/media/user/EVIMO/raw/imo/eval/scene15_dyn_test_01/left_camera/ground_truth_000000\"\n",
    "save_to_dir = \"./data/EVIMO/train\"\n",
    "sensor_size = [640, 480, 2]\n",
    "batch_size = 4\n",
    "framerate = 200\n",
    "device = 'cpu'"
   ]
  },
  {
   "cell_type": "code",
   "execution_count": 3,
   "id": "61a99f43-a5a2-4294-97f8-97dcf9783079",
   "metadata": {},
   "outputs": [],
   "source": [
    "xy = np.load(dir + \"/dataset_events_xy.npy\")\n",
    "polarity = np.load(dir + \"/dataset_events_p.npy\")\n",
    "time = np.load(dir + \"/dataset_events_t.npy\")"
   ]
  },
  {
   "cell_type": "code",
   "execution_count": 4,
   "id": "a2a1b9c9-aa39-412e-830b-40577cd841c7",
   "metadata": {},
   "outputs": [
    {
     "name": "stdout",
     "output_type": "stream",
     "text": [
      "(9768348, 2) uint16\n",
      "(9768348,) float32\n",
      "(9768348,) uint8\n"
     ]
    }
   ],
   "source": [
    "print(xy.shape, xy.dtype)\n",
    "print(time.shape, time.dtype)\n",
    "print(polarity.shape, polarity.dtype)"
   ]
  },
  {
   "cell_type": "code",
   "execution_count": 5,
   "id": "350257c0-e9c0-4490-9aeb-d2d63c15ab0c",
   "metadata": {},
   "outputs": [],
   "source": [
    "df = pd.DataFrame(columns=[\"x\", \"y\", \"t\", \"p\"])\n",
    "df[\"x\"] = xy[:, 0]\n",
    "df[\"y\"] = xy[:, 1]\n",
    "df[\"t\"] = time\n",
    "df[\"p\"] = polarity"
   ]
  },
  {
   "cell_type": "code",
   "execution_count": 6,
   "id": "5d50313c-0bf3-450b-99bc-1af45cf25464",
   "metadata": {},
   "outputs": [],
   "source": [
    "# Convert timestamp from seconds into microseconds\n",
    "df[\"t\"] = df[\"t\"].apply(lambda t: t * 1000000)"
   ]
  },
  {
   "cell_type": "code",
   "execution_count": 7,
   "id": "5256e71c-7f78-4fdd-a4c4-d031e0bae93f",
   "metadata": {},
   "outputs": [
    {
     "data": {
      "text/html": [
       "<div>\n",
       "<style scoped>\n",
       "    .dataframe tbody tr th:only-of-type {\n",
       "        vertical-align: middle;\n",
       "    }\n",
       "\n",
       "    .dataframe tbody tr th {\n",
       "        vertical-align: top;\n",
       "    }\n",
       "\n",
       "    .dataframe thead th {\n",
       "        text-align: right;\n",
       "    }\n",
       "</style>\n",
       "<table border=\"1\" class=\"dataframe\">\n",
       "  <thead>\n",
       "    <tr style=\"text-align: right;\">\n",
       "      <th></th>\n",
       "      <th>x</th>\n",
       "      <th>y</th>\n",
       "      <th>t</th>\n",
       "      <th>p</th>\n",
       "    </tr>\n",
       "  </thead>\n",
       "  <tbody>\n",
       "    <tr>\n",
       "      <th>0</th>\n",
       "      <td>120</td>\n",
       "      <td>45</td>\n",
       "      <td>5.001785e+03</td>\n",
       "      <td>1</td>\n",
       "    </tr>\n",
       "    <tr>\n",
       "      <th>1</th>\n",
       "      <td>334</td>\n",
       "      <td>242</td>\n",
       "      <td>5.003833e+03</td>\n",
       "      <td>1</td>\n",
       "    </tr>\n",
       "    <tr>\n",
       "      <th>2</th>\n",
       "      <td>273</td>\n",
       "      <td>110</td>\n",
       "      <td>5.005881e+03</td>\n",
       "      <td>1</td>\n",
       "    </tr>\n",
       "    <tr>\n",
       "      <th>3</th>\n",
       "      <td>551</td>\n",
       "      <td>63</td>\n",
       "      <td>5.009721e+03</td>\n",
       "      <td>1</td>\n",
       "    </tr>\n",
       "    <tr>\n",
       "      <th>4</th>\n",
       "      <td>515</td>\n",
       "      <td>256</td>\n",
       "      <td>5.009721e+03</td>\n",
       "      <td>0</td>\n",
       "    </tr>\n",
       "    <tr>\n",
       "      <th>...</th>\n",
       "      <td>...</td>\n",
       "      <td>...</td>\n",
       "      <td>...</td>\n",
       "      <td>...</td>\n",
       "    </tr>\n",
       "    <tr>\n",
       "      <th>9768343</th>\n",
       "      <td>73</td>\n",
       "      <td>230</td>\n",
       "      <td>3.525000e+06</td>\n",
       "      <td>0</td>\n",
       "    </tr>\n",
       "    <tr>\n",
       "      <th>9768344</th>\n",
       "      <td>376</td>\n",
       "      <td>230</td>\n",
       "      <td>3.525000e+06</td>\n",
       "      <td>0</td>\n",
       "    </tr>\n",
       "    <tr>\n",
       "      <th>9768345</th>\n",
       "      <td>214</td>\n",
       "      <td>239</td>\n",
       "      <td>3.525000e+06</td>\n",
       "      <td>1</td>\n",
       "    </tr>\n",
       "    <tr>\n",
       "      <th>9768346</th>\n",
       "      <td>576</td>\n",
       "      <td>239</td>\n",
       "      <td>3.525000e+06</td>\n",
       "      <td>0</td>\n",
       "    </tr>\n",
       "    <tr>\n",
       "      <th>9768347</th>\n",
       "      <td>75</td>\n",
       "      <td>253</td>\n",
       "      <td>3.525000e+06</td>\n",
       "      <td>1</td>\n",
       "    </tr>\n",
       "  </tbody>\n",
       "</table>\n",
       "<p>9768348 rows × 4 columns</p>\n",
       "</div>"
      ],
      "text/plain": [
       "           x    y             t  p\n",
       "0        120   45  5.001785e+03  1\n",
       "1        334  242  5.003833e+03  1\n",
       "2        273  110  5.005881e+03  1\n",
       "3        551   63  5.009721e+03  1\n",
       "4        515  256  5.009721e+03  0\n",
       "...      ...  ...           ... ..\n",
       "9768343   73  230  3.525000e+06  0\n",
       "9768344  376  230  3.525000e+06  0\n",
       "9768345  214  239  3.525000e+06  1\n",
       "9768346  576  239  3.525000e+06  0\n",
       "9768347   75  253  3.525000e+06  1\n",
       "\n",
       "[9768348 rows x 4 columns]"
      ]
     },
     "execution_count": 7,
     "metadata": {},
     "output_type": "execute_result"
    }
   ],
   "source": [
    "df"
   ]
  },
  {
   "cell_type": "code",
   "execution_count": 8,
   "id": "3702e4e9-ef1e-4350-9794-92f34224f920",
   "metadata": {},
   "outputs": [],
   "source": [
    "events = np.asarray(df.to_records(index=False))"
   ]
  },
  {
   "cell_type": "code",
   "execution_count": 9,
   "id": "30e9bebf-2510-4d8c-8bf1-4ebb8a0c772e",
   "metadata": {},
   "outputs": [],
   "source": [
    "dataset_masks = dict(np.load(dir + \"/dataset_mask.npz\", allow_pickle=True))"
   ]
  },
  {
   "cell_type": "code",
   "execution_count": 10,
   "id": "352922a7-87a6-40be-8bde-f5c6b7bc2e21",
   "metadata": {},
   "outputs": [],
   "source": [
    "mask_prefix = \"mask_0000000\"\n",
    "# Ordering masks, moving to list\n",
    "masks = []\n",
    "for i in range(len(dataset_masks)):\n",
    "    masks.append(dataset_masks[mask_prefix + \"{:03d}\".format(i)]/1000) # div by 1000 as all object ids are mult by 1000 in original dataset\n",
    "\n",
    "# Removing extra masks\n",
    "masks = masks[1:-1]"
   ]
  },
  {
   "cell_type": "code",
   "execution_count": 12,
   "id": "4372c2fa-c49b-47cf-97fc-30b0b3d73a30",
   "metadata": {
    "editable": true,
    "slideshow": {
     "slide_type": ""
    },
    "tags": []
   },
   "outputs": [],
   "source": [
    "# Denoise removes isolated, one-off events\n",
    "# time_window\n",
    "frame_transform = transforms.Compose([#transforms.Denoise(filter_time=10000),\n",
    "                                      transforms.ToFrame(sensor_size=sensor_size,\n",
    "                                                         time_window=5000)\n",
    "                                     ])"
   ]
  },
  {
   "cell_type": "code",
   "execution_count": 13,
   "id": "58ac27d5-e95a-4203-ba16-43083b3e6fec",
   "metadata": {},
   "outputs": [
    {
     "name": "stdout",
     "output_type": "stream",
     "text": [
      "Target present in: 209 of 703 masks. 0.2972972972972973\n"
     ]
    }
   ],
   "source": [
    "tonic_dataset = EVIMO(data=events, transform=frame_transform, masks=masks)"
   ]
  },
  {
   "cell_type": "code",
   "execution_count": 14,
   "id": "f5b49300-0fa7-45ca-a774-06b9bb625987",
   "metadata": {},
   "outputs": [],
   "source": [
    "binned_events = frame_transform(events)"
   ]
  },
  {
   "cell_type": "code",
   "execution_count": 15,
   "id": "7266742d-af34-4d83-a5af-94957d7a79e6",
   "metadata": {
    "scrolled": true
   },
   "outputs": [
    {
     "data": {
      "text/plain": [
       "(703, 2, 480, 640)"
      ]
     },
     "execution_count": 15,
     "metadata": {},
     "output_type": "execute_result"
    }
   ],
   "source": [
    "binned_events.shape"
   ]
  },
  {
   "cell_type": "code",
   "execution_count": 21,
   "id": "24100f7a-e994-4900-b9d1-464d89230541",
   "metadata": {},
   "outputs": [],
   "source": [
    "targets = np.asarray([[0, 1] if 23 in m else [1, 0] for m in masks])"
   ]
  },
  {
   "cell_type": "code",
   "execution_count": 22,
   "id": "9e4faee6-5859-4971-a3ff-2f854ac1d3ab",
   "metadata": {},
   "outputs": [
    {
     "data": {
      "text/plain": [
       "(703, 2)"
      ]
     },
     "execution_count": 22,
     "metadata": {},
     "output_type": "execute_result"
    }
   ],
   "source": [
    "targets.shape"
   ]
  },
  {
   "cell_type": "code",
   "execution_count": 25,
   "id": "12c67a5b-f6e0-45dc-bedf-5b5541a3ffe6",
   "metadata": {},
   "outputs": [],
   "source": [
    "for i, binned_event in enumerate(binned_events):\n",
    "    np.save(save_to_dir + \"/\" + str(i), binned_event)"
   ]
  },
  {
   "cell_type": "code",
   "execution_count": 26,
   "id": "30717749-f6fb-406f-a0d6-27174e2d7902",
   "metadata": {},
   "outputs": [],
   "source": [
    "np.save(save_to_dir + \"/labels\", targets)"
   ]
  },
  {
   "cell_type": "code",
   "execution_count": null,
   "id": "8090eeb7-3955-4aa9-aee9-c8423aaef5dc",
   "metadata": {},
   "outputs": [],
   "source": []
  }
 ],
 "metadata": {
  "kernelspec": {
   "display_name": "Python 3 (ipykernel)",
   "language": "python",
   "name": "python3"
  },
  "language_info": {
   "codemirror_mode": {
    "name": "ipython",
    "version": 3
   },
   "file_extension": ".py",
   "mimetype": "text/x-python",
   "name": "python",
   "nbconvert_exporter": "python",
   "pygments_lexer": "ipython3",
   "version": "3.10.12"
  }
 },
 "nbformat": 4,
 "nbformat_minor": 5
}
