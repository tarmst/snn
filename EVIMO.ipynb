{
 "cells": [
  {
   "cell_type": "code",
   "execution_count": 1,
   "id": "c61e32fa-4662-4c2f-8820-130bf9fa13be",
   "metadata": {},
   "outputs": [],
   "source": [
    "import numpy as np\n",
    "import tonic\n",
    "import tonic.transforms as transforms\n",
    "import pandas as pd\n",
    "from torch.utils.data import Dataset, DataLoader\n",
    "#from tonic.dataset import Dataset\n",
    "from typing import Callable, Optional\n",
    "import torch\n",
    "import matplotlib.pyplot as plt\n",
    "from torchvision.ops import masks_to_boxes\n",
    "from torchvision.utils import draw_bounding_boxes\n",
    "import matplotlib.patches as patches\n",
    "from tqdm.notebook import tqdm"
   ]
  },
  {
   "cell_type": "code",
   "execution_count": 2,
   "id": "b30097a0-45a9-41a5-92c4-18344bedafed",
   "metadata": {},
   "outputs": [],
   "source": [
    "import sys\n",
    "sys.path.append(\"./mnist_sg_cnn\")"
   ]
  },
  {
   "cell_type": "code",
   "execution_count": 3,
   "id": "e2b519d7-7625-47ad-bf9e-4bfea280d6b6",
   "metadata": {},
   "outputs": [],
   "source": [
    "import utils\n",
    "import snn_utils\n",
    "import base_model\n",
    "import lenet_decolle_model"
   ]
  },
  {
   "cell_type": "code",
   "execution_count": 4,
   "id": "2440213f-255c-496c-8cc3-e3167d74f316",
   "metadata": {},
   "outputs": [
    {
     "data": {
      "text/plain": [
       "device(type='cuda')"
      ]
     },
     "execution_count": 4,
     "metadata": {},
     "output_type": "execute_result"
    }
   ],
   "source": [
    "dir = \"/media/user/EVIMO/raw/imo/eval/scene15_dyn_test_01/left_camera/ground_truth_000000\"\n",
    "sensor_size = [640, 480, 2]\n",
    "batch_size = 4\n",
    "num_bins_per_frame = 16 # T = 100\n",
    "framerate = 200\n",
    "epochs=20\n",
    "\n",
    "device = torch.device(\"cuda\") if torch.cuda.is_available() else torch.device(\"cpu\")\n",
    "device"
   ]
  },
  {
   "cell_type": "code",
   "execution_count": 5,
   "id": "eee4657b-59c4-4dd1-8f51-d9492c27f7cd",
   "metadata": {},
   "outputs": [],
   "source": [
    "class EVIMO(Dataset):\n",
    "    def __init__(self,\n",
    "                 dir: str,\n",
    "                 item_to_find: int,\n",
    "                 num_bins_per_frame: int,\n",
    "                 #start_idx: int,\n",
    "                ):\n",
    "        self.dir = dir\n",
    "        self.item_to_find = item_to_find\n",
    "        self.num_bins_per_frame = num_bins_per_frame\n",
    "        self.length = np.load(self.dir + \"/length.npy\")\n",
    "        #print(self.length)\n",
    "        #self.start_idx = start_idx\n",
    "\n",
    "\n",
    "    def __getitem__(self, index):\n",
    "        item = np.load(self.dir + \"/\" + str(index) + \".npy\", allow_pickle=True).tolist()\n",
    "        if self.item_to_find in item[\"objs_in_mask\"]:\n",
    "            target = np.asarray([0, 1])\n",
    "        else:\n",
    "            target = np.asarray([1, 0])\n",
    "\n",
    "        #target = np.tile(target, (self.num_bins_per_frame, 1))\n",
    "        #print(item[\"events\"].dtype)\n",
    "        events = np.asarray(item[\"events\"])\n",
    "        #target = target\n",
    "\n",
    "        frame_transform = transforms.Compose([# transforms.Denoise(filter_time=0.01),\n",
    "                                       transforms.ToFrame(sensor_size=sensor_size,\n",
    "                                                          n_event_bins=self.num_bins_per_frame)\n",
    "                                      ])\n",
    "\n",
    "        # #transform = transforms.ToFrame(sensor_size=sensor_size, )\n",
    "        events = frame_transform(events)\n",
    "\n",
    "        #return {\"data\": events, \"targets\": target}\n",
    "        return events, target\n",
    "\n",
    "    def __len__(self) -> int:\n",
    "        return self.length # - self.start_idx\n",
    "    \n",
    "    "
   ]
  },
  {
   "cell_type": "code",
   "execution_count": 6,
   "id": "d84cf6b1-6549-48cb-adbb-7511b28d4bdf",
   "metadata": {},
   "outputs": [],
   "source": [
    "tonic_dataset = EVIMO(dir=\"./data/EVIMO/left_cam/scene13_test5\", item_to_find=23, num_bins_per_frame=num_bins_per_frame)"
   ]
  },
  {
   "cell_type": "code",
   "execution_count": 7,
   "id": "9287cb41-5f3a-4a1a-b7b0-32c4d9263ad6",
   "metadata": {
    "scrolled": true
   },
   "outputs": [
    {
     "data": {
      "text/plain": [
       "<matplotlib.image.AxesImage at 0x7f96026bc670>"
      ]
     },
     "execution_count": 7,
     "metadata": {},
     "output_type": "execute_result"
    },
    {
     "data": {
      "image/png": "[encoded data removed]",
      "text/plain": [
       "<Figure size 640x480 with 1 Axes>"
      ]
     },
     "metadata": {},
     "output_type": "display_data"
    }
   ],
   "source": [
    "events, target = tonic_dataset[0]\n",
    "events = events[3]\n",
    "\n",
    "arr = events[1] = events[0]\n",
    "plt.imshow(arr)"
   ]
  },
  {
   "cell_type": "code",
   "execution_count": 8,
   "id": "c1badfd5-35ed-43a3-8f1e-bbecefb0a08f",
   "metadata": {},
   "outputs": [
    {
     "name": "stdout",
     "output_type": "stream",
     "text": [
      "5.93 ms ± 0 ns per loop (mean ± std. dev. of 1 run, 100 loops each)\n"
     ]
    },
    {
     "data": {
      "text/plain": [
       "<TimeitResult : 5.93 ms ± 0 ns per loop (mean ± std. dev. of 1 run, 100 loops each)>"
      ]
     },
     "execution_count": 8,
     "metadata": {},
     "output_type": "execute_result"
    }
   ],
   "source": [
    "%timeit -o -r 1 tonic_dataset[0]"
   ]
  },
  {
   "cell_type": "markdown",
   "id": "4e6a8ae5-c6ce-4933-8b08-702b05071923",
   "metadata": {},
   "source": [
    "157 ms ± 4.12 ms per loop (mean ± std. dev. of 10 runs, 10 loops each)"
   ]
  },
  {
   "cell_type": "code",
   "execution_count": 9,
   "id": "808a1540-0251-41ee-8c5e-1157c5fa25e8",
   "metadata": {
    "scrolled": true
   },
   "outputs": [],
   "source": [
    "import os\n",
    "\n",
    "cache_dir = \"./data/EVIMO/cache\"\n",
    "targets = []\n",
    "num_ones = 0\n",
    "\n",
    "if not os.path.exists(cache_dir):\n",
    "    os.makedirs(cache_dir)\n",
    "\n",
    "for i in range(len(tonic_dataset)):\n",
    "    events, target = tonic_dataset[i]\n",
    "    targets.append(target)\n",
    "    np.save(cache_dir+f\"/{i}_events\", events)\n",
    "\n",
    "np.save(cache_dir+f\"/targets\", np.asarray(targets))\n",
    "np.save(cache_dir+f\"/length\", len(tonic_dataset))\n",
    "    "
   ]
  },
  {
   "cell_type": "code",
   "execution_count": 10,
   "id": "c3f6b203-79d9-4fcf-9975-8fe6c65f9754",
   "metadata": {},
   "outputs": [],
   "source": [
    "class CachedEVIMODataset(Dataset):\n",
    "    def __init__(self, \n",
    "                dir: str):\n",
    "        self.dir = dir\n",
    "        \n",
    "        self.length = np.load(self.dir+f\"/length.npy\")\n",
    "        self.targets = np.load(self.dir+f\"/targets.npy\")\n",
    "\n",
    "    def __getitem__(self, index):\n",
    "        events = np.load(self.dir+f\"/{i}_events.npy\")\n",
    "        return events, self.targets[index]\n",
    "\n",
    "    def __len__(self):\n",
    "        return self.length"
   ]
  },
  {
   "cell_type": "code",
   "execution_count": 11,
   "id": "1afbae57-e797-4e98-a65e-0edfb6d4b1bc",
   "metadata": {},
   "outputs": [],
   "source": [
    "dataset = CachedEVIMODataset(dir=cache_dir)"
   ]
  },
  {
   "cell_type": "code",
   "execution_count": 12,
   "id": "a8b6c02d-48ab-4b6c-9fe4-6573cd6664ec",
   "metadata": {},
   "outputs": [
    {
     "name": "stdout",
     "output_type": "stream",
     "text": [
      "3.3 ms ± 187 µs per loop (mean ± std. dev. of 10 runs, 100 loops each)\n"
     ]
    },
    {
     "data": {
      "text/plain": [
       "<TimeitResult : 3.3 ms ± 187 µs per loop (mean ± std. dev. of 10 runs, 100 loops each)>"
      ]
     },
     "execution_count": 12,
     "metadata": {},
     "output_type": "execute_result"
    }
   ],
   "source": [
    "%timeit -o -r 1 dataset[0]"
   ]
  },
  {
   "cell_type": "markdown",
   "id": "a501fa48-6e0d-42fe-baad-7dc1538ec132",
   "metadata": {},
   "source": [
    "20.7 ms ± 1.09 ms per loop (mean ± std. dev. of 10 runs, 10 loops each)"
   ]
  },
  {
   "cell_type": "code",
   "execution_count": 13,
   "id": "9ea1e86b-eb3e-4f98-aadb-00494f9e96ff",
   "metadata": {},
   "outputs": [],
   "source": [
    "events, target = dataset[0]"
   ]
  },
  {
   "cell_type": "code",
   "execution_count": null,
   "id": "dbce7f80-4ba0-4581-8030-f73ec86e946a",
   "metadata": {},
   "outputs": [],
   "source": [
    "target.argmax()"
   ]
  },
  {
   "cell_type": "code",
   "execution_count": null,
   "id": "f1da311e-c2cc-4297-8f82-4c60c82ce015",
   "metadata": {},
   "outputs": [],
   "source": [
    "num_ones = 0\n",
    "#targ_set = set()\n",
    "\n",
    "for i in range(0, len(dataset)):\n",
    "    _, target = dataset[i]\n",
    "    #print(target.argmax())\n",
    "    if target.argmax() == 1:\n",
    "        num_ones += 1\n",
    "        #targ_set.add(a)\n",
    "    "
   ]
  },
  {
   "cell_type": "code",
   "execution_count": 16,
   "id": "4ebd06b2-9fd0-4035-821e-62b5a88e5ea7",
   "metadata": {},
   "outputs": [
    {
     "data": {
      "text/plain": [
       "0.5031446540880503"
      ]
     },
     "execution_count": 16,
     "metadata": {},
     "output_type": "execute_result"
    }
   ],
   "source": [
    "num_ones / len(dataset)"
   ]
  },
  {
   "cell_type": "code",
   "execution_count": 17,
   "id": "e7fa9a80-586b-4ace-b999-c9d0cd987723",
   "metadata": {},
   "outputs": [],
   "source": [
    "trainloader = DataLoader(dataset, batch_size=batch_size, shuffle=False) # collate_fn=tonic.collation.PadTensors(),\n",
    "#test_trainloader = DataLoader(test_dataset, batch_size=batch_size, shuffle=False)"
   ]
  },
  {
   "cell_type": "code",
   "execution_count": 18,
   "id": "c7fa7d1e-a4e4-461a-90c3-4b663b07f1bc",
   "metadata": {
    "scrolled": true
   },
   "outputs": [],
   "source": [
    "#for i_batch, sample_batched in enumerate(trainloader):\n",
    "#    print(i_batch, sample_batched['data'].size(), sample_batched['target'].size())"
   ]
  },
  {
   "cell_type": "code",
   "execution_count": 19,
   "id": "f582f111-a1af-4ee6-adeb-b4bd1f13f0ab",
   "metadata": {},
   "outputs": [],
   "source": [
    "datait = iter(trainloader)\n",
    "events, targets = next(datait)"
   ]
  },
  {
   "cell_type": "code",
   "execution_count": 20,
   "id": "45aaaff3-d489-42d5-9ecb-0489e2a53c0b",
   "metadata": {
    "scrolled": true
   },
   "outputs": [
    {
     "data": {
      "text/plain": [
       "torch.Size([4, 16, 2, 480, 640])"
      ]
     },
     "execution_count": 20,
     "metadata": {},
     "output_type": "execute_result"
    }
   ],
   "source": [
    "events.shape"
   ]
  },
  {
   "cell_type": "code",
   "execution_count": 21,
   "id": "201836b1-fd13-4bd2-aea0-371333a58b0a",
   "metadata": {},
   "outputs": [
    {
     "data": {
      "text/plain": [
       "torch.Size([4, 2])"
      ]
     },
     "execution_count": 21,
     "metadata": {},
     "output_type": "execute_result"
    }
   ],
   "source": [
    "targets.shape"
   ]
  },
  {
   "cell_type": "code",
   "execution_count": 22,
   "id": "321a0824-3a31-4af3-b745-e4c5f7d5eee1",
   "metadata": {
    "editable": true,
    "slideshow": {
     "slide_type": ""
    },
    "tags": []
   },
   "outputs": [
    {
     "name": "stdout",
     "output_type": "stream",
     "text": [
      "LAYER SIZE: 1210944\n",
      "STDV: 0.000454368247933539\n",
      "LAYER SIZE: 34048\n",
      "STDV: 0.002709718654762875\n",
      "LAYER SIZE: 256\n",
      "STDV: 0.03125\n"
     ]
    }
   ],
   "source": [
    "data, target = next(iter(trainloader))\n",
    "\n",
    "loss = torch.nn.SmoothL1Loss()\n",
    "\n",
    "def decolle_loss(r, s, tgt):\n",
    "    loss_tv = 0\n",
    "    for i in range(len(r)):\n",
    "        if r[i].shape != tgt.shape:\n",
    "            print(f\"Loss Readout shape : {r[i].shape}\")\n",
    "            print(f\"Loss Target shape : {tgt.shape}\")\n",
    "        loss_tv += loss(r[i],tgt) \n",
    "    return loss_tv\n",
    "\n",
    "\n",
    "convnet_sg = lenet_decolle_model.LenetDECOLLE(out_channels=2,\n",
    "                    Nhid=[64, 128], #Number of convolution channels\n",
    "                    Mhid=[256],\n",
    "                    kernel_size=[8, 16],\n",
    "                    pool_size=[4, 8],\n",
    "                    input_shape=[2, 480, 640],  # data.shape[1:],\n",
    "                    alpha=[.95],\n",
    "                    alpharp=[.65],\n",
    "                    beta=[.92],\n",
    "                    num_conv_layers=2,\n",
    "                    num_mlp_layers=1,\n",
    "                    lc_ampl=0.5).to(device)\n",
    "\n",
    "#net = lenet_decolle_model.LenetDECOLLE(Nhid=[1,8],Mhid=[32,64],out_channels=2, input_shape=[2, 480, 640]).to(device)\n",
    "\n",
    "#convnet_sg\n",
    "\n",
    "data_d = data.to(device)\n",
    "target_d = target.to(device)\n",
    "convnet_sg.init_parameters(data_d) # Modifies readout dim"
   ]
  },
  {
   "cell_type": "code",
   "execution_count": 23,
   "id": "e26c9fd9-1b04-4d7d-b4fc-a059bac83ce8",
   "metadata": {
    "editable": true,
    "slideshow": {
     "slide_type": ""
    },
    "tags": []
   },
   "outputs": [
    {
     "data": {
      "text/plain": [
       "torch.Size([4, 16, 2, 480, 640])"
      ]
     },
     "execution_count": 23,
     "metadata": {},
     "output_type": "execute_result"
    }
   ],
   "source": [
    "data_d.shape"
   ]
  },
  {
   "cell_type": "code",
   "execution_count": 24,
   "id": "7408e907-b4a4-4eca-8a5d-e3943bd68333",
   "metadata": {},
   "outputs": [
    {
     "data": {
      "text/plain": [
       "torch.Size([4, 2])"
      ]
     },
     "execution_count": 24,
     "metadata": {},
     "output_type": "execute_result"
    }
   ],
   "source": [
    "target_d.shape"
   ]
  },
  {
   "cell_type": "code",
   "execution_count": 25,
   "id": "98c9479b-0c6c-4982-8def-9dd7455f1891",
   "metadata": {
    "editable": true,
    "scrolled": true,
    "slideshow": {
     "slide_type": ""
    },
    "tags": []
   },
   "outputs": [
    {
     "data": {
      "application/vnd.jupyter.widget-view+json": {
       "model_id": "1143840695604514b8245fa37c433c32",
       "version_major": 2,
       "version_minor": 0
      },
      "text/plain": [
       "Epoch 0:   0%|          | 0/120 [00:00<?, ?it/s]"
      ]
     },
     "metadata": {},
     "output_type": "display_data"
    },
    {
     "name": "stdout",
     "output_type": "stream",
     "text": [
      "Training Error tensor(0.0922)\n",
      "Training accuracy tensor(0.9078)\n",
      "Epoch 0 Loss tensor(2.5923, device='cuda:0')\n"
     ]
    },
    {
     "data": {
      "application/vnd.jupyter.widget-view+json": {
       "model_id": "26c620b15f204a54b8ba4e5a8501d7af",
       "version_major": 2,
       "version_minor": 0
      },
      "text/plain": [
       "Epoch 1:   0%|          | 0/120 [00:00<?, ?it/s]"
      ]
     },
     "metadata": {},
     "output_type": "display_data"
    },
    {
     "name": "stdout",
     "output_type": "stream",
     "text": [
      "Training Error tensor(0.0503)\n",
      "Training accuracy tensor(0.9497)\n",
      "Epoch 1 Loss tensor(2.5289, device='cuda:0')\n"
     ]
    },
    {
     "data": {
      "application/vnd.jupyter.widget-view+json": {
       "model_id": "90840f271eae439e9d294b63f917e99e",
       "version_major": 2,
       "version_minor": 0
      },
      "text/plain": [
       "Epoch 2:   0%|          | 0/120 [00:00<?, ?it/s]"
      ]
     },
     "metadata": {},
     "output_type": "display_data"
    },
    {
     "name": "stdout",
     "output_type": "stream",
     "text": [
      "Training Error tensor(0.0335)\n",
      "Training accuracy tensor(0.9665)\n",
      "Epoch 2 Loss tensor(2.3219, device='cuda:0')\n"
     ]
    },
    {
     "data": {
      "application/vnd.jupyter.widget-view+json": {
       "model_id": "c910dd9db6ae44abb68ff1f5a47bd6ce",
       "version_major": 2,
       "version_minor": 0
      },
      "text/plain": [
       "Epoch 3:   0%|          | 0/120 [00:00<?, ?it/s]"
      ]
     },
     "metadata": {},
     "output_type": "display_data"
    },
    {
     "name": "stdout",
     "output_type": "stream",
     "text": [
      "Training Error tensor(0.0566)\n",
      "Training accuracy tensor(0.9434)\n",
      "Epoch 3 Loss tensor(1.9659, device='cuda:0')\n"
     ]
    },
    {
     "data": {
      "application/vnd.jupyter.widget-view+json": {
       "model_id": "464a88fcfc7a4da5a8dcd46d2432a02c",
       "version_major": 2,
       "version_minor": 0
      },
      "text/plain": [
       "Epoch 4:   0%|          | 0/120 [00:00<?, ?it/s]"
      ]
     },
     "metadata": {},
     "output_type": "display_data"
    },
    {
     "name": "stdout",
     "output_type": "stream",
     "text": [
      "Training Error tensor(0.0860)\n",
      "Training accuracy tensor(0.9140)\n",
      "Epoch 4 Loss tensor(1.6142, device='cuda:0')\n"
     ]
    },
    {
     "data": {
      "application/vnd.jupyter.widget-view+json": {
       "model_id": "432a0a96041f4c34b475594744d90ef2",
       "version_major": 2,
       "version_minor": 0
      },
      "text/plain": [
       "Epoch 5:   0%|          | 0/120 [00:00<?, ?it/s]"
      ]
     },
     "metadata": {},
     "output_type": "display_data"
    },
    {
     "ename": "KeyboardInterrupt",
     "evalue": "",
     "output_type": "error",
     "traceback": [
      "\u001b[0;31m---------------------------------------------------------------------------\u001b[0m",
      "\u001b[0;31mKeyboardInterrupt\u001b[0m                         Traceback (most recent call last)",
      "Cell \u001b[0;32mIn[25], line 10\u001b[0m\n\u001b[1;32m      8\u001b[0m convnet_sg\u001b[38;5;241m.\u001b[39mtrain()\n\u001b[1;32m      9\u001b[0m loss_hist \u001b[38;5;241m=\u001b[39m \u001b[38;5;241m0\u001b[39m\n\u001b[0;32m---> 10\u001b[0m data_d \u001b[38;5;241m=\u001b[39m \u001b[43mdata\u001b[49m\u001b[38;5;241;43m.\u001b[39;49m\u001b[43mto\u001b[49m\u001b[43m(\u001b[49m\u001b[43mdevice\u001b[49m\u001b[43m)\u001b[49m\n\u001b[1;32m     11\u001b[0m label_d \u001b[38;5;241m=\u001b[39m label\u001b[38;5;241m.\u001b[39mto(device)\n\u001b[1;32m     12\u001b[0m convnet_sg\u001b[38;5;241m.\u001b[39minit(data_d, burnin\u001b[38;5;241m=\u001b[39m\u001b[38;5;241m10\u001b[39m)\n",
      "\u001b[0;31mKeyboardInterrupt\u001b[0m: "
     ]
    }
   ],
   "source": [
    "from tqdm.notebook import tqdm\n",
    "\n",
    "opt_conv = torch.optim.Adamax(convnet_sg.get_trainable_parameters(), lr=1e-9, betas=[0., .95])\n",
    "for e in range(epochs):        \n",
    "    error = []\n",
    "    accuracy=[]\n",
    "    for data, label in tqdm(iter(trainloader), desc=f\"Epoch {e}\"):\n",
    "        convnet_sg.train()\n",
    "        loss_hist = 0\n",
    "        data_d = data.to(device)\n",
    "        label_d = label.to(device)\n",
    "        convnet_sg.init(data_d, burnin=10)\n",
    "        readout = 0\n",
    "\n",
    "        #print(label_d)\n",
    "        #print(label_d.shape)\n",
    "        #break\n",
    "\n",
    "        data_d = data_d.transpose(0, 1)\n",
    "        \n",
    "        for n in range(num_bins_per_frame):\n",
    "           # print(f\"Data shape: {data_d[n].shape}, overall: {data_d.shape}\")\n",
    "            st, rt, ut = convnet_sg.forward(data_d[n])\n",
    "            #print(\"Readout\")\n",
    "            #print(len(rt), rt[0].shape, rt[1].shape, rt[2].shape)\n",
    "            #print(f\"Label: {label_d[n].shape} overall {label_d.shape}\")\n",
    "            #print(label_d[n].shape)\n",
    "            #print(label_d[n])\n",
    "            loss_tv = decolle_loss(rt, st, label_d)\n",
    "            loss_tv.backward()\n",
    "            opt_conv.step()\n",
    "            opt_conv.zero_grad()\n",
    "            loss_hist += loss_tv\n",
    "            readout += rt[-1]\n",
    "        error += (readout.argmax(axis=1)!=label_d.argmax(axis=1)).float()\n",
    "        accuracy+=(readout.argmax(axis=1)==label_d.argmax(axis=1)).float()\n",
    "    print('Training Error', torch.mean(torch.Tensor(error)).data)\n",
    "    print('Training accuracy', torch.mean(torch.Tensor(accuracy)).data)     \n",
    "    print('Epoch', e, 'Loss', loss_hist.data)\n",
    "    PATH = './mnist_network_sg_conv.pth'\n",
    "    torch.save(convnet_sg.state_dict(), PATH)"
   ]
  },
  {
   "cell_type": "code",
   "execution_count": null,
   "id": "88e62e65-490a-4c02-b2ac-f5070f4280fe",
   "metadata": {
    "editable": true,
    "scrolled": true,
    "slideshow": {
     "slide_type": ""
    },
    "tags": []
   },
   "outputs": [],
   "source": [
    "opt_conv = torch.optim.Adamax(convnet_sg.get_trainable_parameters(), lr=1e-6, betas=[0., .95])\n",
    "\n",
    "# Their data_d is T, batchsize, pol, x, y (16, 4, 1, 28, 28)\n",
    "# Mine is batchsize, T, pol, x,y\n",
    "\n",
    "for e in range(epochs):        \n",
    "    error = []\n",
    "    accuracy=[]\n",
    "    for data, label in tqdm(iter(trainloader), desc=f\"Epoch {e}\"):\n",
    "\n",
    "        #if label.shape[0] != 4:\n",
    "            #print(f\"last entry\")\n",
    "            #break\n",
    "        \n",
    "        convnet_sg.train()\n",
    "        loss_hist = 0\n",
    "        data_d = data.to(device)\n",
    "        label_d = label.to(device)\n",
    "        convnet_sg.init(data_d, burnin=10)\n",
    "        readout = 0\n",
    "\n",
    "        data_d = data_d.transpose(0, 1)\n",
    "        \n",
    "        #print(label_d.shape)\n",
    "        #print(label_d)\n",
    "        \n",
    "        for n in range(num_bins_per_frame):\n",
    "            # CORRECT: Data shape: torch.Size([4, 2, 480, 640]), overall: torch.Size([8, 4, 2, 480, 640])\n",
    "            #print(f\"Data shape: {data_d[n].shape}, overall: {data_d.shape}\")\n",
    "            #print(data_d[n])\n",
    "            \n",
    "            st, rt, ut = convnet_sg.forward(data_d[n])\n",
    "            #print(\"Readout\")\n",
    "            #print(len(rt), rt[0].shape, rt[1].shape, rt[2].shape)\n",
    "            #print(rt[-1].shape)\n",
    "\n",
    "            # CORRECT: Label shape: torch.Size([4, 2]), overall: torch.Size([8, 4, 2])\n",
    "            #print(f\"Label shape: {label_d[n].shape}, overall: {label_d.shape}\")\n",
    "            #print(label_d[n].shape, label_d[n])\n",
    "            \n",
    "            #print(label_d)\n",
    "            #break\n",
    "            loss_tv = decolle_loss(rt, st, label_d)\n",
    "            \n",
    "            loss_tv.backward()\n",
    "            opt_conv.step()\n",
    "            opt_conv.zero_grad()\n",
    "            loss_hist += loss_tv\n",
    "            readout += rt[-1]\n",
    "\n",
    "        #print(f\"Readout: {readout}\")\n",
    "        #error += (readout.argmax(axis=1)!=label_d.argmax(axis=1)).float()\n",
    "        #accuracy+=(readout.argmax(axis=1)==label_d.argmax(axis=1)).float()\n",
    "\n",
    "        # SEEM CORRECT\n",
    "        argmaxed_readout = readout.argmax(axis=1)\n",
    "        #print(\"argmaxeds\")\n",
    "        #print(argmaxed_readout)\n",
    "        #print(label_d)\n",
    "        #print(label_d[-1])\n",
    "        #print(label_d.argmax(axis=1))\n",
    "        argmaxed_label = label_d.argmax(axis=1)\n",
    "        #print(argmaxed_label)\n",
    "        #break\n",
    "        #print(\"argmaxed readout\")\n",
    "        #print(argmaxed_readout)\n",
    "        #print(\"argmaxed label\")\n",
    "        #print(argmaxed_label)\n",
    "        error += (argmaxed_readout!=argmaxed_label).float()\n",
    "        accuracy+=(argmaxed_readout==argmaxed_label).float()\n",
    "        #print(f\"Accuracy: {accuracy}\")\n",
    "        #break\n",
    "        \n",
    "    print('Training Error', torch.mean(torch.Tensor(error)).data)\n",
    "    print('Training accuracy', torch.mean(torch.Tensor(accuracy)).data)     \n",
    "    print('Epoch', e, 'Loss', loss_hist.data)\n",
    "    PATH = './EVIMO_class_cnn.pth'  \n",
    "    torch.save(convnet_sg.state_dict(), PATH)"
   ]
  },
  {
   "cell_type": "code",
   "execution_count": null,
   "id": "9961fd94-fc2f-41db-aab0-25a5539903c0",
   "metadata": {},
   "outputs": [],
   "source": [
    "type(loss_tv)"
   ]
  },
  {
   "cell_type": "code",
   "execution_count": null,
   "id": "848ee114-ef61-4a57-9d90-f28f99147570",
   "metadata": {
    "editable": true,
    "slideshow": {
     "slide_type": ""
    },
    "tags": []
   },
   "outputs": [],
   "source": [
    "error = []\n",
    "accuracy=[]\n",
    "y_pred = []\n",
    "y_true = []\n",
    "#convnet_sg.requires_init = True\n",
    "for item in iter(batched_trainloader):\n",
    "    #print(\"Item\")\n",
    "    #print(item)\n",
    "    data = item['data']\n",
    "    label = item['target']\n",
    "    if label.shape[0] != 4:\n",
    "        #print(f\"last entry: {label}\")\n",
    "        break\n",
    "\n",
    "    #print(\"earliest label\")\n",
    "    #print(label)\n",
    "    #print(label.shape)\n",
    "\n",
    "    \n",
    "    loss_hist = 0\n",
    "    data_d = data.to(device)\n",
    "    label_d = label.to(device)\n",
    "    print(f\"data_d shape: {data_d.shape}\")\n",
    "    print(f\"data_d_tranpose shape: {data_d.transpose(0,1).shape}\")\n",
    "    print(f\"Len convnet: {len(convnet_sg)}\")\n",
    "    print(f\"data init shape: {data_d.transpose(0,1)[:, 0, :, :].shape}\")\n",
    "    print(f\"Test data shape: {data_d[0].shape}\")\n",
    "    \n",
    "    convnet_sg.init_evimo(data_d)\n",
    "    readout = 0\n",
    "    with torch.no_grad():\n",
    "        #for i in range(0, len(data_d)):\n",
    "        #d = data_d[i:i+1]\n",
    "        \n",
    "        #print(d.shape)\n",
    "        \n",
    "        st, rt, ut = convnet_sg.forward(data_d)\n",
    "\n",
    "        \n",
    "        \n",
    "        print(f\"Label shape: {label_d.shape}\")\n",
    "        print(\"Readout\")\n",
    "        print(rt)\n",
    "        print(rt[0].shape)\n",
    "\n",
    "        #print(\"labels\")\n",
    "        #print(label_d)\n",
    "        #print(label_d.shape)\n",
    "        \n",
    "        \n",
    "        loss_tv = decolle_loss(rt, st, label_d)\n",
    "        \n",
    "        \n",
    "        loss_hist += loss_tv\n",
    "        readout += rt[-1]\n",
    "        print(f\"Readout: {readout}\")\n",
    "        output = (readout.argmax(axis=1)).data.cpu().numpy()\n",
    "        print(f\"Output: {output}\")\n",
    "        y_pred.extend(output)\n",
    "        #labels = label_d.argmax(axis=1)\n",
    "        print(f\"Labels: {label_d}\")\n",
    "        labels = (label_d.argmax(axis=1)).data.cpu().numpy()\n",
    "        print(f\"Labels: {labels}\")\n",
    "        y_true.extend(labels)\n",
    "        accuracy+=(readout.argmax(axis=1)==label_d.argmax(axis=1)).float()\n",
    "        error += (readout.argmax(axis=1)!=label_d.argmax(axis=1)).float()\n",
    "        break\n",
    "        \n",
    "print('Testing Error', torch.mean(torch.Tensor(error)).data)\n",
    "print('Testing accuracy', torch.mean(torch.Tensor(accuracy)).data)"
   ]
  },
  {
   "cell_type": "code",
   "execution_count": null,
   "id": "c14e8c82-256e-490b-b93b-7f5ac7d7493d",
   "metadata": {
    "editable": true,
    "slideshow": {
     "slide_type": ""
    },
    "tags": []
   },
   "outputs": [],
   "source": [
    "print(y_true)\n",
    "print(y_pred)"
   ]
  },
  {
   "cell_type": "code",
   "execution_count": null,
   "id": "a1b2bc5a-e41a-4848-b296-e23b3c12b4f1",
   "metadata": {},
   "outputs": [],
   "source": [
    "\"\"\"\n",
    "convnet_sg = lenet_decolle_model.LenetDECOLLE( out_channels=2,\n",
    "                    Nhid=[16,32], #Number of convolution channels\n",
    "                    Mhid=[64],\n",
    "                    kernel_size=[7],\n",
    "                    pool_size=[2,2],\n",
    "                    input_shape=[2, 480, 640],  # data.shape[1:],\n",
    "                    alpha=[.95],\n",
    "                    alpharp=[.65],\n",
    "                    beta=[.92],\n",
    "                    num_conv_layers=2,\n",
    "                    num_mlp_layers=1,\n",
    "                    lc_ampl=.5).to(device)\n",
    "\n",
    "\"\"\""
   ]
  },
  {
   "cell_type": "code",
   "execution_count": null,
   "id": "685f938a-2daa-4af3-98e2-ddf8be8f91b9",
   "metadata": {
    "scrolled": true
   },
   "outputs": [],
   "source": [
    "net = lenet_decolle_model.LenetDECOLLE(Nhid=[16,32],Mhid=[64],out_channels=2, pool_size=[2,2], num_conv_layers=2, num_mlp_layers=1, lc_ampl=.5, input_shape=[2, 480, 640])\n",
    "d = torch.zeros([1, 2, 480, 640])\n",
    "print(d.shape)\n",
    "st, rt, ut = net.forward(d)\n",
    "print(rt[0].shape)"
   ]
  },
  {
   "cell_type": "code",
   "execution_count": null,
   "id": "657f5490-a0b7-4311-80af-37368d824a1a",
   "metadata": {},
   "outputs": [],
   "source": []
  },
  {
   "cell_type": "code",
   "execution_count": null,
   "id": "ec08fa76-8a93-42a9-91b8-05eca9db7f16",
   "metadata": {},
   "outputs": [],
   "source": [
    "print(rt)"
   ]
  },
  {
   "cell_type": "code",
   "execution_count": null,
   "id": "213e3376-231b-4b64-a521-57b2ca6944f6",
   "metadata": {},
   "outputs": [],
   "source": [
    "target = torch.zeros([1, 2])\n",
    "target"
   ]
  },
  {
   "cell_type": "code",
   "execution_count": null,
   "id": "8e406213-5c03-4e68-bc2f-e8fe4a8c4e66",
   "metadata": {},
   "outputs": [],
   "source": [
    "loss_tv = decolle_loss(rt, st, target)"
   ]
  },
  {
   "cell_type": "code",
   "execution_count": null,
   "id": "19bffc1a-f0f1-44b2-b386-620613fa93ab",
   "metadata": {
    "editable": true,
    "slideshow": {
     "slide_type": ""
    },
    "tags": []
   },
   "outputs": [],
   "source": []
  },
  {
   "cell_type": "code",
   "execution_count": null,
   "id": "79139852-ca64-4c41-8367-55d7334f4a94",
   "metadata": {},
   "outputs": [],
   "source": []
  }
 ],
 "metadata": {
  "kernelspec": {
   "display_name": "Python 3 (ipykernel)",
   "language": "python",
   "name": "python3"
  },
  "language_info": {
   "codemirror_mode": {
    "name": "ipython",
    "version": 3
   },
   "file_extension": ".py",
   "mimetype": "text/x-python",
   "name": "python",
   "nbconvert_exporter": "python",
   "pygments_lexer": "ipython3",
   "version": "3.10.12"
  }
 },
 "nbformat": 4,
 "nbformat_minor": 5
}
