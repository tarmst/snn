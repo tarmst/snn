{
 "cells": [
  {
   "cell_type": "code",
   "execution_count": 2,
   "id": "6c912760-61c1-4e78-b15a-bd9d4acf85d0",
   "metadata": {},
   "outputs": [],
   "source": [
    "import tonic\n",
    "import tonic.transforms as transforms\n",
    "from torch.utils.data import DataLoader\n",
    "from tonic import DiskCachedDataset\n",
    "import torch\n",
    "import torchvision\n",
    "import snntorch as snn\n",
    "from snntorch import surrogate\n",
    "from snntorch import functional as SF\n",
    "from snntorch import spikeplot as splt\n",
    "from snntorch import utils\n",
    "import torch.nn as nn"
   ]
  },
  {
   "cell_type": "code",
   "execution_count": 3,
   "id": "31cfca19-ef14-4372-9c7f-dc175f441daa",
   "metadata": {},
   "outputs": [],
   "source": [
    "dataset = tonic.datasets.NMNIST(save_to='./data', train=True)\n",
    "events, target = dataset[0]"
   ]
  },
  {
   "cell_type": "code",
   "execution_count": 11,
   "id": "cf8c9d8e-9ac4-4edb-a889-8afa2807381e",
   "metadata": {},
   "outputs": [
    {
     "data": {
      "text/plain": [
       "numpy.ndarray"
      ]
     },
     "execution_count": 11,
     "metadata": {},
     "output_type": "execute_result"
    }
   ],
   "source": [
    "type(events)"
   ]
  },
  {
   "cell_type": "code",
   "execution_count": 12,
   "id": "8c0a6fe1-bbc8-44e6-9383-01ec8d6affb5",
   "metadata": {},
   "outputs": [
    {
     "data": {
      "text/plain": [
       "array([( 0, 30,   1213, 1), ( 9, 18,   4044, 0), (30, 15,   4104, 1), ...,\n",
       "       ( 9, 17, 301658, 0), (18,  8, 305112, 1), (19, 26, 309976, 1)],\n",
       "      dtype=[('x', '<i8'), ('y', '<i8'), ('t', '<i8'), ('p', '<i8')])"
      ]
     },
     "execution_count": 12,
     "metadata": {},
     "output_type": "execute_result"
    }
   ],
   "source": [
    "events"
   ]
  },
  {
   "cell_type": "code",
   "execution_count": 13,
   "id": "ff70485f-64f4-4f8a-8a71-8335a4cbb071",
   "metadata": {},
   "outputs": [
    {
     "data": {
      "text/plain": [
       "(3913,)"
      ]
     },
     "execution_count": 13,
     "metadata": {},
     "output_type": "execute_result"
    }
   ],
   "source": [
    "events.shape"
   ]
  },
  {
   "cell_type": "code",
   "execution_count": 4,
   "id": "27e79dc5-a975-4a4e-af99-ac7a4e091a04",
   "metadata": {},
   "outputs": [
    {
     "data": {
      "text/plain": [
       "dtype([('x', '<i8'), ('y', '<i8'), ('t', '<i8'), ('p', '<i8')])"
      ]
     },
     "execution_count": 4,
     "metadata": {},
     "output_type": "execute_result"
    }
   ],
   "source": [
    "events.dtype"
   ]
  },
  {
   "cell_type": "code",
   "execution_count": 5,
   "id": "8d26fab8-93c2-41d7-981f-d30fa01390bc",
   "metadata": {
    "scrolled": true
   },
   "outputs": [
    {
     "data": {
      "image/png": "[encoded data removed]",
      "text/plain": [
       "<Figure size 640x480 with 3 Axes>"
      ]
     },
     "metadata": {},
     "output_type": "display_data"
    }
   ],
   "source": [
    "tonic.utils.plot_event_grid(events)"
   ]
  },
  {
   "cell_type": "code",
   "execution_count": 6,
   "id": "bf465fec-2286-40b6-a1e0-4ca7b2579550",
   "metadata": {},
   "outputs": [
    {
     "data": {
      "text/plain": [
       "(34, 34, 2)"
      ]
     },
     "execution_count": 6,
     "metadata": {},
     "output_type": "execute_result"
    }
   ],
   "source": [
    "sensor_size = tonic.datasets.NMNIST.sensor_size\n",
    "sensor_size"
   ]
  },
  {
   "cell_type": "code",
   "execution_count": 7,
   "id": "665ed81e-a7c2-4ecd-8563-8089340f8016",
   "metadata": {},
   "outputs": [],
   "source": [
    "\n",
    "\n",
    "# Denoise removes isolated, one-off events\n",
    "# time_window\n",
    "frame_transform = transforms.Compose([transforms.Denoise(filter_time=10000),\n",
    "                                      transforms.ToFrame(sensor_size=sensor_size,\n",
    "                                                         time_window=1000)\n",
    "                                     ])\n",
    "\n",
    "trainset = tonic.datasets.NMNIST(save_to='./data', transform=frame_transform, train=True)\n",
    "testset = tonic.datasets.NMNIST(save_to='./data', transform=frame_transform, train=False)"
   ]
  },
  {
   "cell_type": "code",
   "execution_count": 9,
   "id": "df95b648-9c01-485b-b5ae-9606e1daa8ab",
   "metadata": {},
   "outputs": [],
   "source": [
    "frames = frame_transform(events)"
   ]
  },
  {
   "cell_type": "code",
   "execution_count": 10,
   "id": "63d1c6af-ab4e-4f74-9411-c4233c216af2",
   "metadata": {},
   "outputs": [
    {
     "data": {
      "text/plain": [
       "(300, 2, 34, 34)"
      ]
     },
     "execution_count": 10,
     "metadata": {},
     "output_type": "execute_result"
    }
   ],
   "source": [
    "frames.shape"
   ]
  },
  {
   "cell_type": "code",
   "execution_count": 7,
   "id": "55d0ea69-dc6e-4974-b464-28df3235016b",
   "metadata": {},
   "outputs": [],
   "source": [
    "cached_trainset = DiskCachedDataset(trainset, cache_path='./cache/nmnist/train')\n",
    "cached_dataloader = DataLoader(cached_trainset)\n",
    "\n",
    "batch_size = 128\n",
    "trainloader = DataLoader(cached_trainset, batch_size=batch_size, collate_fn=tonic.collation.PadTensors())"
   ]
  },
  {
   "cell_type": "code",
   "execution_count": 8,
   "id": "55fa6e78-51cc-439f-8407-570625855765",
   "metadata": {},
   "outputs": [],
   "source": [
    "def load_sample_batched():\n",
    "    events, target = next(iter(cached_dataloader))"
   ]
  },
  {
   "cell_type": "code",
   "execution_count": 9,
   "id": "cd5fc2f9-b482-40c8-9e2c-dc46febfb75a",
   "metadata": {},
   "outputs": [
    {
     "name": "stdout",
     "output_type": "stream",
     "text": [
      "3.99 ms ± 415 µs per loop (mean ± std. dev. of 10 runs, 100 loops each)\n"
     ]
    },
    {
     "data": {
      "text/plain": [
       "<TimeitResult : 3.99 ms ± 415 µs per loop (mean ± std. dev. of 10 runs, 100 loops each)>"
      ]
     },
     "execution_count": 9,
     "metadata": {},
     "output_type": "execute_result"
    }
   ],
   "source": [
    "%timeit -o -r 10 load_sample_batched()"
   ]
  },
  {
   "cell_type": "code",
   "execution_count": 10,
   "id": "85dc8f1f-9d58-4135-b68a-9145aef122b4",
   "metadata": {},
   "outputs": [],
   "source": [
    "transform = tonic.transforms.Compose([torch.from_numpy,\n",
    "                                      torchvision.transforms.RandomRotation([-10,10])])\n",
    "\n",
    "cached_trainset = DiskCachedDataset(trainset, transform=transform, cache_path='./cache/nmnist/train')\n",
    "\n",
    "# no augmentations for the testset\n",
    "cached_testset = DiskCachedDataset(testset, cache_path='./cache/nmnist/test')\n",
    "\n",
    "batch_size = 32\n",
    "trainloader = DataLoader(cached_trainset, batch_size=batch_size, collate_fn=tonic.collation.PadTensors(batch_first=False), shuffle=True)\n",
    "testloader = DataLoader(cached_testset, batch_size=batch_size, collate_fn=tonic.collation.PadTensors(batch_first=False))"
   ]
  },
  {
   "cell_type": "code",
   "execution_count": 11,
   "id": "54b37f0b-714b-4d0a-a972-6d1cd8b2092c",
   "metadata": {},
   "outputs": [
    {
     "data": {
      "text/plain": [
       "torch.Size([308, 32, 2, 34, 34])"
      ]
     },
     "execution_count": 11,
     "metadata": {},
     "output_type": "execute_result"
    }
   ],
   "source": [
    "event_tensor, target = next(iter(trainloader))\n",
    "event_tensor.shape"
   ]
  },
  {
   "cell_type": "code",
   "execution_count": 12,
   "id": "c1a76654-c9f1-427f-9f2b-6dd3b45e6837",
   "metadata": {},
   "outputs": [],
   "source": [
    "device = torch.device(\"cuda\") if torch.cuda.is_available() else torch.device(\"cpu\")\n",
    "\n",
    "# neuron and simulation parameters\n",
    "spike_grad = surrogate.atan()\n",
    "beta = 0.5\n",
    "\n",
    "#  Initialize Network\n",
    "net = nn.Sequential(nn.Conv2d(2, 12, 5),\n",
    "                    nn.MaxPool2d(2),\n",
    "                    snn.Leaky(beta=beta, spike_grad=spike_grad, init_hidden=True),\n",
    "                    nn.Conv2d(12, 32, 5),\n",
    "                    nn.MaxPool2d(2),\n",
    "                    snn.Leaky(beta=beta, spike_grad=spike_grad, init_hidden=True),\n",
    "                    nn.Flatten(),\n",
    "                    nn.Linear(32*5*5, 10),\n",
    "                    snn.Leaky(beta=beta, spike_grad=spike_grad, init_hidden=True, output=True)\n",
    "                    ).to(device)"
   ]
  },
  {
   "cell_type": "code",
   "execution_count": 13,
   "id": "b3e670a3-535f-434b-8be3-5068c5185eb1",
   "metadata": {},
   "outputs": [],
   "source": [
    "# this time, we won't return membrane as we don't need it\n",
    "\n",
    "def forward_pass(net, data):\n",
    "  spk_rec = []\n",
    "  utils.reset(net)  # resets hidden states for all LIF neurons in net\n",
    "\n",
    "  for step in range(data.size(0)):  # data.size(0) = number of time steps\n",
    "      spk_out, mem_out = net(data[step])\n",
    "      spk_rec.append(spk_out)\n",
    "\n",
    "  return torch.stack(spk_rec)"
   ]
  },
  {
   "cell_type": "code",
   "execution_count": 14,
   "id": "60643874-4b27-4b2f-b3bf-d81ca7534ecf",
   "metadata": {},
   "outputs": [],
   "source": [
    "optimizer = torch.optim.Adam(net.parameters(), lr=2e-2, betas=(0.9, 0.999))\n",
    "loss_fn = SF.mse_count_loss(correct_rate=0.8, incorrect_rate=0.2)"
   ]
  },
  {
   "cell_type": "code",
   "execution_count": 15,
   "id": "f888c8a8-082c-401d-a33a-1dd1a3cb3b89",
   "metadata": {},
   "outputs": [
    {
     "name": "stdout",
     "output_type": "stream",
     "text": [
      "Epoch 0, Iteration 0 \n",
      "Train Loss: 30.58\n",
      "Accuracy: 0.00%\n",
      "\n",
      "Epoch 0, Iteration 1 \n",
      "Train Loss: 30.46\n",
      "Accuracy: 12.50%\n",
      "\n",
      "Epoch 0, Iteration 2 \n",
      "Train Loss: 30.58\n",
      "Accuracy: 12.50%\n",
      "\n",
      "Epoch 0, Iteration 3 \n",
      "Train Loss: 30.85\n",
      "Accuracy: 3.12%\n",
      "\n",
      "Epoch 0, Iteration 4 \n",
      "Train Loss: 15.39\n",
      "Accuracy: 6.25%\n",
      "\n",
      "Epoch 0, Iteration 5 \n",
      "Train Loss: 15.56\n",
      "Accuracy: 15.62%\n",
      "\n",
      "Epoch 0, Iteration 6 \n",
      "Train Loss: 18.47\n",
      "Accuracy: 18.75%\n",
      "\n",
      "Epoch 0, Iteration 7 \n",
      "Train Loss: 16.57\n",
      "Accuracy: 15.62%\n",
      "\n",
      "Epoch 0, Iteration 8 \n",
      "Train Loss: 14.94\n",
      "Accuracy: 28.12%\n",
      "\n",
      "Epoch 0, Iteration 9 \n",
      "Train Loss: 12.79\n",
      "Accuracy: 25.00%\n",
      "\n",
      "Epoch 0, Iteration 10 \n",
      "Train Loss: 16.58\n",
      "Accuracy: 15.62%\n",
      "\n",
      "Epoch 0, Iteration 11 \n",
      "Train Loss: 15.41\n",
      "Accuracy: 9.38%\n",
      "\n",
      "Epoch 0, Iteration 12 \n",
      "Train Loss: 12.82\n",
      "Accuracy: 12.50%\n",
      "\n",
      "Epoch 0, Iteration 13 \n",
      "Train Loss: 12.10\n",
      "Accuracy: 15.62%\n",
      "\n",
      "Epoch 0, Iteration 14 \n",
      "Train Loss: 13.23\n",
      "Accuracy: 25.00%\n",
      "\n",
      "Epoch 0, Iteration 15 \n",
      "Train Loss: 12.57\n",
      "Accuracy: 28.12%\n",
      "\n",
      "Epoch 0, Iteration 16 \n",
      "Train Loss: 12.50\n",
      "Accuracy: 15.62%\n",
      "\n",
      "Epoch 0, Iteration 17 \n",
      "Train Loss: 11.19\n",
      "Accuracy: 25.00%\n",
      "\n",
      "Epoch 0, Iteration 18 \n",
      "Train Loss: 11.19\n",
      "Accuracy: 25.00%\n",
      "\n",
      "Epoch 0, Iteration 19 \n",
      "Train Loss: 14.76\n",
      "Accuracy: 15.62%\n",
      "\n",
      "Epoch 0, Iteration 20 \n",
      "Train Loss: 12.63\n",
      "Accuracy: 28.12%\n",
      "\n",
      "Epoch 0, Iteration 21 \n",
      "Train Loss: 10.68\n",
      "Accuracy: 37.50%\n",
      "\n",
      "Epoch 0, Iteration 22 \n",
      "Train Loss: 12.01\n",
      "Accuracy: 50.00%\n",
      "\n",
      "Epoch 0, Iteration 23 \n",
      "Train Loss: 11.50\n",
      "Accuracy: 37.50%\n",
      "\n",
      "Epoch 0, Iteration 24 \n",
      "Train Loss: 12.31\n",
      "Accuracy: 25.00%\n",
      "\n",
      "Epoch 0, Iteration 25 \n",
      "Train Loss: 10.90\n",
      "Accuracy: 43.75%\n",
      "\n",
      "Epoch 0, Iteration 26 \n",
      "Train Loss: 9.44\n",
      "Accuracy: 62.50%\n",
      "\n",
      "Epoch 0, Iteration 27 \n",
      "Train Loss: 9.94\n",
      "Accuracy: 56.25%\n",
      "\n",
      "Epoch 0, Iteration 28 \n",
      "Train Loss: 9.68\n",
      "Accuracy: 59.38%\n",
      "\n",
      "Epoch 0, Iteration 29 \n",
      "Train Loss: 10.49\n",
      "Accuracy: 34.38%\n",
      "\n",
      "Epoch 0, Iteration 30 \n",
      "Train Loss: 10.00\n",
      "Accuracy: 34.38%\n",
      "\n",
      "Epoch 0, Iteration 31 \n",
      "Train Loss: 9.20\n",
      "Accuracy: 34.38%\n",
      "\n",
      "Epoch 0, Iteration 32 \n",
      "Train Loss: 9.83\n",
      "Accuracy: 28.12%\n",
      "\n",
      "Epoch 0, Iteration 33 \n",
      "Train Loss: 9.48\n",
      "Accuracy: 43.75%\n",
      "\n",
      "Epoch 0, Iteration 34 \n",
      "Train Loss: 10.32\n",
      "Accuracy: 31.25%\n",
      "\n",
      "Epoch 0, Iteration 35 \n",
      "Train Loss: 10.31\n",
      "Accuracy: 34.38%\n",
      "\n",
      "Epoch 0, Iteration 36 \n",
      "Train Loss: 9.01\n",
      "Accuracy: 62.50%\n",
      "\n",
      "Epoch 0, Iteration 37 \n",
      "Train Loss: 9.36\n",
      "Accuracy: 50.00%\n",
      "\n",
      "Epoch 0, Iteration 38 \n",
      "Train Loss: 9.38\n",
      "Accuracy: 53.12%\n",
      "\n",
      "Epoch 0, Iteration 39 \n",
      "Train Loss: 10.24\n",
      "Accuracy: 46.88%\n",
      "\n",
      "Epoch 0, Iteration 40 \n",
      "Train Loss: 8.00\n",
      "Accuracy: 75.00%\n",
      "\n",
      "Epoch 0, Iteration 41 \n",
      "Train Loss: 9.85\n",
      "Accuracy: 37.50%\n",
      "\n",
      "Epoch 0, Iteration 42 \n",
      "Train Loss: 8.25\n",
      "Accuracy: 59.38%\n",
      "\n",
      "Epoch 0, Iteration 43 \n",
      "Train Loss: 8.40\n",
      "Accuracy: 53.12%\n",
      "\n",
      "Epoch 0, Iteration 44 \n",
      "Train Loss: 9.01\n",
      "Accuracy: 31.25%\n",
      "\n",
      "Epoch 0, Iteration 45 \n",
      "Train Loss: 8.10\n",
      "Accuracy: 53.12%\n",
      "\n",
      "Epoch 0, Iteration 46 \n",
      "Train Loss: 9.03\n",
      "Accuracy: 50.00%\n",
      "\n",
      "Epoch 0, Iteration 47 \n",
      "Train Loss: 7.79\n",
      "Accuracy: 59.38%\n",
      "\n",
      "Epoch 0, Iteration 48 \n",
      "Train Loss: 8.43\n",
      "Accuracy: 53.12%\n",
      "\n",
      "Epoch 0, Iteration 49 \n",
      "Train Loss: 7.64\n",
      "Accuracy: 68.75%\n",
      "\n",
      "Epoch 0, Iteration 50 \n",
      "Train Loss: 7.78\n",
      "Accuracy: 65.62%\n",
      "\n"
     ]
    }
   ],
   "source": [
    "num_epochs = 1\n",
    "num_iters = 50\n",
    "\n",
    "loss_hist = []\n",
    "acc_hist = []\n",
    "\n",
    "# training loop\n",
    "for epoch in range(num_epochs):\n",
    "    for i, (data, targets) in enumerate(iter(trainloader)):\n",
    "        data = data.to(device)\n",
    "        targets = targets.to(device)\n",
    "\n",
    "        net.train()\n",
    "        spk_rec = forward_pass(net, data)\n",
    "        loss_val = loss_fn(spk_rec, targets)\n",
    "\n",
    "        # Gradient calculation + weight update\n",
    "        optimizer.zero_grad()\n",
    "        loss_val.backward()\n",
    "        optimizer.step()\n",
    "\n",
    "        # Store loss history for future plotting\n",
    "        loss_hist.append(loss_val.item())\n",
    "\n",
    "        print(f\"Epoch {epoch}, Iteration {i} \\nTrain Loss: {loss_val.item():.2f}\")\n",
    "\n",
    "        acc = SF.accuracy_rate(spk_rec, targets)\n",
    "        acc_hist.append(acc)\n",
    "        print(f\"Accuracy: {acc * 100:.2f}%\\n\")\n",
    "\n",
    "        # training loop breaks after 50 iterations\n",
    "        if i == num_iters:\n",
    "          break"
   ]
  },
  {
   "cell_type": "code",
   "execution_count": null,
   "id": "e348652f-0188-4bd5-a9f7-44d402fabcbd",
   "metadata": {},
   "outputs": [],
   "source": []
  }
 ],
 "metadata": {
  "kernelspec": {
   "display_name": "Python 3 (ipykernel)",
   "language": "python",
   "name": "python3"
  },
  "language_info": {
   "codemirror_mode": {
    "name": "ipython",
    "version": 3
   },
   "file_extension": ".py",
   "mimetype": "text/x-python",
   "name": "python",
   "nbconvert_exporter": "python",
   "pygments_lexer": "ipython3",
   "version": "3.10.12"
  }
 },
 "nbformat": 4,
 "nbformat_minor": 5
}
