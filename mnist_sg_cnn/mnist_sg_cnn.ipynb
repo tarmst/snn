{
 "cells": [
  {
   "cell_type": "code",
   "execution_count": 2,
   "metadata": {
    "id": "tbnrWBNtWFl4"
   },
   "outputs": [],
   "source": [
    "#! cp /content/drive/MyDrive/mnist_sg_cnn/utils.py .\n",
    "import utils\n",
    "#! cp /content/drive/MyDrive/mnist_sg_cnn/snn_utils.py .\n",
    "import snn_utils\n",
    "\n",
    "#! cp /content/drive/MyDrive/mnist_sg_cnn/base_model.py .\n",
    "\n",
    "import base_model\n",
    "\n",
    "#! cp /content/drive/MyDrive/mnist_sg_cnn/lenet_decolle_model.py .\n",
    "\n",
    "import lenet_decolle_model"
   ]
  },
  {
   "cell_type": "code",
   "execution_count": 22,
   "metadata": {
    "editable": true,
    "id": "pjLLg0C4mwW0",
    "slideshow": {
     "slide_type": ""
    },
    "tags": []
   },
   "outputs": [],
   "source": [
    "import torch\n",
    "import pylab as plt\n",
    "device = 'cpu'\n",
    "\n",
    "gen_train = snn_utils.get_mnist_loader(100, Nparts=100, train=True)\n",
    "gen_test = snn_utils.get_mnist_loader(100, Nparts=100, train=False)\n",
    "\n",
    "def iter_mnist(gen_train, batchsize=100, T=1000, max_rate = 20):\n",
    "    datait = iter(gen_train)\n",
    "    for raw_input, raw_labels in datait:\n",
    "        data, labels1h = snn_utils.image2spiketrain(raw_input, raw_labels, max_duration=T, gain=max_rate) # converting data into spikes\n",
    "        data_t = torch.FloatTensor(data)\n",
    "        labels_t = torch.Tensor(labels1h)\n",
    "        yield data_t, labels_t\n",
    "\n",
    "T = 4 #duration of sequence\n",
    "data, target = next(iter_mnist(gen_train, T=T))\n",
    "\n",
    "def decolle_loss(r, s, tgt):\n",
    "    loss_tv = 0\n",
    "    for i in range(len(r)):\n",
    "        print(r[i].shape)\n",
    "        print(tgt.shape)\n",
    "        loss_tv += loss(r[i],tgt) \n",
    "    return loss_tv\n",
    "\n",
    "loss = torch.nn.SmoothL1Loss()\n",
    "\n",
    "convnet_sg = lenet_decolle_model.LenetDECOLLE( out_channels=10,\n",
    "                    Nhid=[16,32], #Number of convolution channels\n",
    "                    Mhid=[64],\n",
    "                    kernel_size=[7],\n",
    "                    pool_size=[2,2],\n",
    "                    input_shape=data.shape[2:],\n",
    "                    alpha=[.95],\n",
    "                    alpharp=[.65],\n",
    "                    beta=[.92],\n",
    "                    num_conv_layers=2,\n",
    "                    num_mlp_layers=1,\n",
    "                    lc_ampl=.5).to(device)\n",
    "\n",
    "convnet_sg\n",
    "\n",
    "data_d = data.to(device)\n",
    "target_d = target.to(device)\n",
    "convnet_sg.init_parameters(data_d.transpose(0,1))"
   ]
  },
  {
   "cell_type": "code",
   "execution_count": 10,
   "metadata": {
    "editable": true,
    "scrolled": true,
    "slideshow": {
     "slide_type": ""
    },
    "tags": []
   },
   "outputs": [
    {
     "data": {
      "text/plain": [
       "torch.Size([1, 28, 28])"
      ]
     },
     "execution_count": 10,
     "metadata": {},
     "output_type": "execute_result"
    }
   ],
   "source": [
    "data.shape[2:]"
   ]
  },
  {
   "cell_type": "code",
   "execution_count": 20,
   "metadata": {
    "editable": true,
    "slideshow": {
     "slide_type": ""
    },
    "tags": []
   },
   "outputs": [
    {
     "data": {
      "text/plain": [
       "torch.Size([4, 100, 1, 28, 28])"
      ]
     },
     "execution_count": 20,
     "metadata": {},
     "output_type": "execute_result"
    }
   ],
   "source": [
    "data_d.shape"
   ]
  },
  {
   "cell_type": "code",
   "execution_count": 19,
   "metadata": {
    "editable": true,
    "slideshow": {
     "slide_type": ""
    },
    "tags": []
   },
   "outputs": [
    {
     "data": {
      "text/plain": [
       "torch.Size([100, 4, 1, 28, 28])"
      ]
     },
     "execution_count": 19,
     "metadata": {},
     "output_type": "execute_result"
    }
   ],
   "source": [
    "data_d.transpose(0,1).shape"
   ]
  },
  {
   "cell_type": "code",
   "execution_count": 11,
   "metadata": {
    "scrolled": true
   },
   "outputs": [
    {
     "ename": "AttributeError",
     "evalue": "'tuple' object has no attribute 'argmax'",
     "output_type": "error",
     "traceback": [
      "\u001b[0;31m---------------------------------------------------------------------------\u001b[0m",
      "\u001b[0;31mAttributeError\u001b[0m                            Traceback (most recent call last)",
      "Cell \u001b[0;32mIn[11], line 2\u001b[0m\n\u001b[1;32m      1\u001b[0m output \u001b[38;5;241m=\u001b[39m convnet_sg(data)\n\u001b[0;32m----> 2\u001b[0m (\u001b[43moutput\u001b[49m\u001b[38;5;241;43m.\u001b[39;49m\u001b[43margmax\u001b[49m(axis\u001b[38;5;241m=\u001b[39m\u001b[38;5;241m1\u001b[39m))\u001b[38;5;241m.\u001b[39mdata\u001b[38;5;241m.\u001b[39mcpu()\u001b[38;5;241m.\u001b[39mnumpy()\n",
      "\u001b[0;31mAttributeError\u001b[0m: 'tuple' object has no attribute 'argmax'"
     ]
    }
   ],
   "source": [
    "output = convnet_sg(data)\n",
    "(output.argmax(axis=1)).data.cpu().numpy()"
   ]
  },
  {
   "cell_type": "code",
   "execution_count": 12,
   "metadata": {},
   "outputs": [
    {
     "data": {
      "text/plain": [
       "torch.Size([100, 16, 14, 14])"
      ]
     },
     "execution_count": 12,
     "metadata": {},
     "output_type": "execute_result"
    }
   ],
   "source": [
    "output[0][0].shape"
   ]
  },
  {
   "cell_type": "code",
   "execution_count": 23,
   "metadata": {
    "colab": {
     "base_uri": "https://localhost:8080/",
     "height": 450
    },
    "executionInfo": {
     "elapsed": 610844,
     "status": "error",
     "timestamp": 1680140385549,
     "user": {
      "displayName": "Sayma Nowshin",
      "userId": "14360775116157682864"
     },
     "user_tz": 240
    },
    "id": "hPNTSJy6V-4V",
    "outputId": "b30cf615-aca1-43b1-cd24-dfb7533b9c3b"
   },
   "outputs": [
    {
     "name": "stdout",
     "output_type": "stream",
     "text": [
      "Data shape: torch.Size([100, 1, 28, 28])\n",
      "Readout\n",
      "3 torch.Size([100, 10]) torch.Size([100, 10]) torch.Size([100, 10])\n",
      "Label\n",
      "torch.Size([100, 10])\n",
      "torch.Size([100, 10])\n",
      "torch.Size([100, 10])\n",
      "torch.Size([100, 10])\n",
      "torch.Size([100, 10])\n",
      "torch.Size([100, 10])\n",
      "torch.Size([100, 10])\n"
     ]
    },
    {
     "ename": "AttributeError",
     "evalue": "'int' object has no attribute 'argmax'",
     "output_type": "error",
     "traceback": [
      "\u001b[0;31m---------------------------------------------------------------------------\u001b[0m",
      "\u001b[0;31mAttributeError\u001b[0m                            Traceback (most recent call last)",
      "Cell \u001b[0;32mIn[23], line 31\u001b[0m\n\u001b[1;32m     29\u001b[0m         loss_hist \u001b[38;5;241m+\u001b[39m\u001b[38;5;241m=\u001b[39m loss_tv\n\u001b[1;32m     30\u001b[0m         readout \u001b[38;5;241m+\u001b[39m\u001b[38;5;241m=\u001b[39m rt[\u001b[38;5;241m-\u001b[39m\u001b[38;5;241m1\u001b[39m]\n\u001b[0;32m---> 31\u001b[0m     error \u001b[38;5;241m+\u001b[39m\u001b[38;5;241m=\u001b[39m (\u001b[43mreadout\u001b[49m\u001b[38;5;241;43m.\u001b[39;49m\u001b[43margmax\u001b[49m(axis\u001b[38;5;241m=\u001b[39m\u001b[38;5;241m1\u001b[39m)\u001b[38;5;241m!=\u001b[39mlabel_d[\u001b[38;5;241m-\u001b[39m\u001b[38;5;241m1\u001b[39m]\u001b[38;5;241m.\u001b[39margmax(axis\u001b[38;5;241m=\u001b[39m\u001b[38;5;241m1\u001b[39m))\u001b[38;5;241m.\u001b[39mfloat()\n\u001b[1;32m     32\u001b[0m     accuracy\u001b[38;5;241m+\u001b[39m\u001b[38;5;241m=\u001b[39m(readout\u001b[38;5;241m.\u001b[39margmax(axis\u001b[38;5;241m=\u001b[39m\u001b[38;5;241m1\u001b[39m)\u001b[38;5;241m==\u001b[39mlabel_d[\u001b[38;5;241m-\u001b[39m\u001b[38;5;241m1\u001b[39m]\u001b[38;5;241m.\u001b[39margmax(axis\u001b[38;5;241m=\u001b[39m\u001b[38;5;241m1\u001b[39m))\u001b[38;5;241m.\u001b[39mfloat()\n\u001b[1;32m     33\u001b[0m \u001b[38;5;28mprint\u001b[39m(\u001b[38;5;124m'\u001b[39m\u001b[38;5;124mTraining Error\u001b[39m\u001b[38;5;124m'\u001b[39m, torch\u001b[38;5;241m.\u001b[39mmean(torch\u001b[38;5;241m.\u001b[39mTensor(error))\u001b[38;5;241m.\u001b[39mdata)\n",
      "\u001b[0;31mAttributeError\u001b[0m: 'int' object has no attribute 'argmax'"
     ]
    }
   ],
   "source": [
    "opt_conv = torch.optim.Adamax(convnet_sg.get_trainable_parameters(), lr=1e-9, betas=[0., .95])\n",
    "for e in range(5):        \n",
    "    error = []\n",
    "    accuracy=[]\n",
    "    for data, label in iter_mnist(gen_train, T=T):\n",
    "        convnet_sg.train()\n",
    "        loss_hist = 0\n",
    "        data_d = data.to(device)\n",
    "        label_d = label.to(device)\n",
    "        convnet_sg.init(data_d.transpose(0,1), burnin=10)\n",
    "        readout = 0\n",
    "\n",
    "        #print(label_d[-1])\n",
    "        #print(label_d[-1].shape)\n",
    "        #break\n",
    "        \n",
    "        for n in range(T):\n",
    "            print(f\"Data shape: {data_d[n].shape}\")\n",
    "            st, rt, ut = convnet_sg.forward(data_d[n])\n",
    "            print(\"Readout\")\n",
    "            print(len(rt), rt[0].shape, rt[1].shape, rt[2].shape)\n",
    "            print(\"Label\")\n",
    "            print(label_d[n].shape)\n",
    "            loss_tv = decolle_loss(rt, st, label_d[n])\n",
    "            break\n",
    "            loss_tv.backward()\n",
    "            opt_conv.step()\n",
    "            opt_conv.zero_grad()\n",
    "            loss_hist += loss_tv\n",
    "            readout += rt[-1]\n",
    "        error += (readout.argmax(axis=1)!=label_d[-1].argmax(axis=1)).float()\n",
    "        accuracy+=(readout.argmax(axis=1)==label_d[-1].argmax(axis=1)).float()\n",
    "    print('Training Error', torch.mean(torch.Tensor(error)).data)\n",
    "    print('Training accuracy', torch.mean(torch.Tensor(accuracy)).data)     \n",
    "    print('Epoch', e, 'Loss', loss_hist.data)\n",
    "    PATH = '/content/drive/MyDrive/mnist_sg/mnist_network_sg_conv.pth'\n",
    "    torch.save(convnet_sg.state_dict(), PATH)"
   ]
  },
  {
   "cell_type": "code",
   "execution_count": null,
   "metadata": {
    "colab": {
     "base_uri": "https://localhost:8080/"
    },
    "editable": true,
    "executionInfo": {
     "elapsed": 1273,
     "status": "ok",
     "timestamp": 1638839003444,
     "user": {
      "displayName": "Sayma Nowshin",
      "photoUrl": "https://lh3.googleusercontent.com/a-/AOh14GhkzHYpVU1wNi-sCNyntyvIzo0Suy5G0-_P3SIbhg=s64",
      "userId": "14360775116157682864"
     },
     "user_tz": 300
    },
    "id": "f8eYXWZ9mpZb",
    "outputId": "12fad076-6aa7-4311-d183-259113dbcb1b",
    "slideshow": {
     "slide_type": ""
    },
    "tags": []
   },
   "outputs": [
    {
     "data": {
      "text/plain": [
       "<All keys matched successfully>"
      ]
     },
     "execution_count": 4,
     "metadata": {},
     "output_type": "execute_result"
    }
   ],
   "source": [
    "PATH = '/content/drive/MyDrive/mnist_sg/mnist_network_sg_conv.pth'\n",
    "convnet_sg.load_state_dict(torch.load(PATH))"
   ]
  },
  {
   "cell_type": "code",
   "execution_count": null,
   "metadata": {
    "colab": {
     "base_uri": "https://localhost:8080/"
    },
    "editable": true,
    "executionInfo": {
     "elapsed": 136707,
     "status": "ok",
     "timestamp": 1638725000122,
     "user": {
      "displayName": "Sayma Nowshin",
      "photoUrl": "https://lh3.googleusercontent.com/a-/AOh14GhkzHYpVU1wNi-sCNyntyvIzo0Suy5G0-_P3SIbhg=s64",
      "userId": "14360775116157682864"
     },
     "user_tz": 300
    },
    "id": "1VM32lp_nCYL",
    "outputId": "939aae99-3a31-498f-bfda-62afe4540bda",
    "slideshow": {
     "slide_type": ""
    },
    "tags": []
   },
   "outputs": [
    {
     "name": "stdout",
     "output_type": "stream",
     "text": [
      "Testing Error tensor(0.0151)\n",
      "Testing accuracy tensor(0.9849)\n"
     ]
    },
    {
     "data": {
      "text/plain": [
       "array([[ 974,    0,    1,    0,    1,    1,    2,    1,    0,    0],\n",
       "       [   0, 1126,    2,    1,    0,    0,    3,    0,    3,    0],\n",
       "       [   4,    0, 1018,    1,    1,    0,    0,    6,    2,    0],\n",
       "       [   0,    0,    1,  997,    0,    3,    0,    6,    3,    0],\n",
       "       [   0,    0,    1,    0,  965,    0,    4,    1,    2,    9],\n",
       "       [   2,    0,    0,    7,    0,  877,    3,    1,    1,    1],\n",
       "       [   5,    3,    0,    0,    2,    2,  945,    0,    1,    0],\n",
       "       [   0,    2,    7,    0,    3,    0,    0, 1012,    1,    3],\n",
       "       [   4,    0,    2,    5,    3,    1,    1,    2,  952,    4],\n",
       "       [   4,    3,    0,    5,    6,    2,    0,    5,    1,  983]])"
      ]
     },
     "execution_count": 6,
     "metadata": {},
     "output_type": "execute_result"
    }
   ],
   "source": [
    "from sklearn.metrics import confusion_matrix\n",
    "import seaborn as sn\n",
    "import pandas as pd\n",
    "import numpy as np\n",
    "\n",
    "import matplotlib.pyplot as plt\n",
    "\n",
    "from sklearn.metrics import confusion_matrix\n",
    "#from resources.plotcm import plot_confusion_matrix\n",
    "\n",
    "import numpy\n",
    "\n",
    "error = []\n",
    "accuracy=[]\n",
    "y_pred = []\n",
    "y_true = []\n",
    "\n",
    "\n",
    "for data, label in iter_mnist(gen_test, T=T):\n",
    "        loss_hist = 0\n",
    "        data_d = data.to(device)\n",
    "        label_d = label.to(device)\n",
    "        convnet_sg.init(data_d.transpose(0,1), burnin=100)\n",
    "        readout = 0\n",
    "        with torch.no_grad():\n",
    "          for n in range(T):\n",
    "             st, rt, ut=convnet_sg.forward(data_d[n])\n",
    "             loss_tv = decolle_loss(rt, st, label_d[n])\n",
    "             \n",
    "             loss_hist += loss_tv\n",
    "             readout += rt[-1]\n",
    "          output = (readout.argmax(axis=1)).data.cpu().numpy()\n",
    "          y_pred.extend(output)\n",
    "          labels =(label_d[-1].argmax(axis=1)).data.cpu().numpy()\n",
    "          y_true.extend(labels)\n",
    "          accuracy+=(readout.argmax(axis=1)==label_d[-1].argmax(axis=1)).float()\n",
    "          error += (readout.argmax(axis=1)!=label_d[-1].argmax(axis=1)).float()\n",
    "print('Testing Error', torch.mean(torch.Tensor(error)).data)\n",
    "print('Testing accuracy', torch.mean(torch.Tensor(accuracy)).data)\n",
    "accuracy=torch.mean(torch.Tensor(accuracy)).item()\n",
    "# Build confusion matrix\n",
    "classes = ('O', '1', '2', '3', '4',\n",
    "        '5', '6', '7', '8', '9')\n",
    "cm = confusion_matrix(y_true, y_pred)\n",
    "\n",
    "\n",
    "\n",
    "cm"
   ]
  },
  {
   "cell_type": "code",
   "execution_count": null,
   "metadata": {
    "colab": {
     "base_uri": "https://localhost:8080/",
     "height": 580
    },
    "executionInfo": {
     "elapsed": 1138,
     "status": "ok",
     "timestamp": 1638725039607,
     "user": {
      "displayName": "Sayma Nowshin",
      "photoUrl": "https://lh3.googleusercontent.com/a-/AOh14GhkzHYpVU1wNi-sCNyntyvIzo0Suy5G0-_P3SIbhg=s64",
      "userId": "14360775116157682864"
     },
     "user_tz": 300
    },
    "id": "KOtSpzRinbe3",
    "outputId": "a754bebf-ba67-4f4c-ae12-6b66374923fa"
   },
   "outputs": [
    {
     "data": {
      "image/png": "[encoded data removed]",
      "text/plain": [
       "<Figure size 720x720 with 2 Axes>"
      ]
     },
     "metadata": {
      "needs_background": "light"
     },
     "output_type": "display_data"
    }
   ],
   "source": [
    "# Used for Confusion Matrix\n",
    "from sklearn import metrics\n",
    "import seaborn as sns\n",
    "import numpy as np\n",
    "cm = metrics.confusion_matrix(y_true, y_pred)\n",
    "cm_normalized = cm.astype('float') / cm.sum(axis=1)[:, np.newaxis]\n",
    "\n",
    "\n",
    "\n",
    "plt.figure(figsize=(10,10))\n",
    "sns.heatmap(cm_normalized, annot=True, fmt=\".3f\", linewidths=.5, square = True, cmap = 'Blues_r');\n",
    "plt.ylabel('Actual label');\n",
    "plt.xlabel('Predicted label');\n",
    "#all_sample_title = 'Accuracy = {} %'.format(np.accuracy)*100 \n",
    "#plt.title(all_sample_title, size = 5);\n",
    "plt.savefig('/content/drive/MyDrive/mnist_sg/confusion_matrix_20epoch_conv.svg')"
   ]
  }
 ],
 "metadata": {
  "colab": {
   "authorship_tag": "ABX9TyOorpdNPvcDUghFffqUoFTv",
   "mount_file_id": "1zPyBZQWGSCgBzeJ6A7W8CDRctxrY0PSF",
   "provenance": []
  },
  "gpuClass": "standard",
  "kernelspec": {
   "display_name": "Python 3 (ipykernel)",
   "language": "python",
   "name": "python3"
  },
  "language_info": {
   "codemirror_mode": {
    "name": "ipython",
    "version": 3
   },
   "file_extension": ".py",
   "mimetype": "text/x-python",
   "name": "python",
   "nbconvert_exporter": "python",
   "pygments_lexer": "ipython3",
   "version": "3.10.12"
  }
 },
 "nbformat": 4,
 "nbformat_minor": 4
}
