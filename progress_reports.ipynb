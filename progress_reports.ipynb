{
 "cells": [
  {
   "cell_type": "markdown",
   "id": "113bd457-07da-4786-9b04-d5141f245d67",
   "metadata": {},
   "source": [
    "# 10/10/2023\n",
    "    - Still working on EVIMO for classification\n",
    "        - Got it to train just now, but does not learn within 5 epochs (although accuracy does change)\n",
    "            - May be problem with data format\n",
    "\n",
    "    - Questions:\n",
    "        - How necessary are the initialization functions for the Convnet model?\n",
    "            - Commenting them gives me the dimensions I expect on the readout\n",
    "            - May not be necessary. The initializations just update the weights to starting value \n",
    "        - What should my data look like?\n",
    "            - The other model for NMNIST uses spike trains and a variable T, but I have no equivalent\n",
    "            - T is not necessary?"
   ]
  },
  {
   "cell_type": "markdown",
   "id": "7dd25976-869c-41a2-bfe2-952964a39e5c",
   "metadata": {
    "editable": true,
    "slideshow": {
     "slide_type": ""
    },
    "tags": []
   },
   "source": [
    "# Make Slides"
   ]
  },
  {
   "cell_type": "code",
   "execution_count": null,
   "id": "b6b6d394-283e-45cf-a2b6-c3202013ca73",
   "metadata": {},
   "outputs": [],
   "source": []
  }
 ],
 "metadata": {
  "kernelspec": {
   "display_name": "Python 3 (ipykernel)",
   "language": "python",
   "name": "python3"
  },
  "language_info": {
   "codemirror_mode": {
    "name": "ipython",
    "version": 3
   },
   "file_extension": ".py",
   "mimetype": "text/x-python",
   "name": "python",
   "nbconvert_exporter": "python",
   "pygments_lexer": "ipython3",
   "version": "3.10.12"
  }
 },
 "nbformat": 4,
 "nbformat_minor": 5
}
