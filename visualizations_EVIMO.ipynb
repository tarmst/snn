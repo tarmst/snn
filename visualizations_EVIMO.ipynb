{
 "cells": [
  {
   "cell_type": "code",
   "execution_count": null,
   "id": "9a7f8ac9-a568-4347-a965-1e852c57623c",
   "metadata": {},
   "outputs": [],
   "source": [
    "import numpy as np\n",
    "import tonic\n",
    "import tonic.transforms as transforms\n",
    "import pandas as pd\n",
    "from torch.utils.data import Dataset, DataLoader\n",
    "#from tonic.dataset import Dataset\n",
    "from typing import Callable, Optional\n",
    "import torch\n",
    "import matplotlib.pyplot as plt\n",
    "from torchvision.ops import masks_to_boxes\n",
    "from torchvision.utils import draw_bounding_boxes\n",
    "import matplotlib.patches as patches"
   ]
  },
  {
   "cell_type": "code",
   "execution_count": null,
   "id": "39b50394-3dfe-4832-8f25-2611c8f3d434",
   "metadata": {},
   "outputs": [],
   "source": [
    "def plot_frame(item_to_find, frame, mask): # TODO: Put the mask processing into bounding box into the tonic dataset?\n",
    "    #print(mask)\n",
    "    img = frame[1] - frame[0]\n",
    "    fig, ax = plt.subplots(1,2, figsize=(10,10))\n",
    "    ax[0].imshow(img)\n",
    "\n",
    "    mask = torch.from_numpy(mask)\n",
    "    obj_ids = torch.unique(mask)\n",
    "    #print(obj_ids)\n",
    "    obj_ids = obj_ids[1:]\n",
    "    print(obj_ids)\n",
    "    detection_masks = mask == obj_ids[:, None, None]\n",
    "    #print(detection_masks)\n",
    "    \n",
    "    boxes = masks_to_boxes(detection_masks)\n",
    "    print(boxes)\n",
    "    #for box in boxes:\n",
    "    if item_to_find in obj_ids:\n",
    "        id_to_show = obj_ids.tolist().index(item_to_find)\n",
    "    else:\n",
    "        id_to_show = 0\n",
    "    print(f\"{item_to_find} index is: {id_to_show}\")\n",
    "    \n",
    "    box = boxes[id_to_show]\n",
    "    ax[0].add_patch(patches.Rectangle((box[0], box[1]), box[2]-box[0], box[3]-box[1], linewidth=1, edgecolor='r', facecolor='none'))\n",
    "\n",
    "\n",
    "    ax[1].imshow(detection_masks[id_to_show])\n",
    "    print(f\"obj in mask: {item_to_find in mask}\")\n",
    "    \n",
    "    ax[0].axis(\"off\")\n",
    "    ax[1].axis(\"off\")\n",
    "    plt.show()\n",
    "\n",
    "item_to_find = 24\n",
    "item_num = 400\n",
    "plot_frame(item_to_find, binned_events[item_num], masks[item_num])"
   ]
  }
 ],
 "metadata": {
  "kernelspec": {
   "display_name": "Python 3 (ipykernel)",
   "language": "python",
   "name": "python3"
  },
  "language_info": {
   "codemirror_mode": {
    "name": "ipython",
    "version": 3
   },
   "file_extension": ".py",
   "mimetype": "text/x-python",
   "name": "python",
   "nbconvert_exporter": "python",
   "pygments_lexer": "ipython3",
   "version": "3.10.12"
  }
 },
 "nbformat": 4,
 "nbformat_minor": 5
}
