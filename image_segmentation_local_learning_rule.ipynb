{
 "cells": [
  {
   "cell_type": "code",
   "execution_count": 17,
   "id": "4ae57a8f-906b-42df-a3cd-87ea4b40129d",
   "metadata": {},
   "outputs": [],
   "source": [
    "import numpy as np\n",
    "import tonic\n",
    "import tonic.transforms as transforms\n",
    "from torchvision import transforms as tt\n",
    "import pandas as pd\n",
    "from torch.utils.data import Dataset, DataLoader\n",
    "#from tonic.dataset import Dataset\n",
    "from typing import Callable, Optional\n",
    "import torch\n",
    "from torch import nn\n",
    "import matplotlib.pyplot as plt\n",
    "from torchvision.ops import masks_to_boxes\n",
    "from torchvision.utils import draw_bounding_boxes\n",
    "from typing import Tuple\n",
    "from tqdm.notebook import tqdm\n",
    "from statistics import mean\n",
    "\n",
    "import snntorch as snn"
   ]
  },
  {
   "cell_type": "markdown",
   "id": "b79b8697-e686-491d-803b-38d72e7e15e5",
   "metadata": {},
   "source": [
    "# ##STDP rule for learning on device\n",
    "local learning\n",
    "focus on updatability, how can we update the model on small hardware\n",
    "Add a new class to \n",
    "Try low class count - is object in path of robot? Does path need to change\n",
    "\n",
    "Make algo to make memory efficient updates on model after already learning through backprop"
   ]
  },
  {
   "cell_type": "code",
   "execution_count": 2,
   "id": "2c845eef-bb73-4750-a2cb-e4e9d0a54edd",
   "metadata": {},
   "outputs": [],
   "source": [
    "from torchvision.ops import box_iou"
   ]
  },
  {
   "cell_type": "code",
   "execution_count": 3,
   "id": "03ed081d-6cba-45ed-ad66-e041289f9dd2",
   "metadata": {},
   "outputs": [],
   "source": [
    "import sys\n",
    "sys.path.append(\"./mnist_sg_cnn\")"
   ]
  },
  {
   "cell_type": "code",
   "execution_count": 4,
   "id": "5ba6837a-0099-4f46-a2c5-939b040a487e",
   "metadata": {},
   "outputs": [],
   "source": [
    "import utils\n",
    "import snn_utils\n",
    "import base_model\n",
    "import lenet_decolle_model"
   ]
  },
  {
   "cell_type": "markdown",
   "id": "9168875f-e342-4b9a-93bb-10eb575b42ac",
   "metadata": {},
   "source": [
    "### Notes\n",
    " - 2/14/2024\n",
    "   - May be extremely memory intensive for image segmentation with local learning rule. Would have to return entire mask at each readout layer, 30000 params for even a small mask\n"
   ]
  },
  {
   "cell_type": "code",
   "execution_count": 5,
   "id": "921dea1c-258e-4b4a-9573-a662cd127526",
   "metadata": {},
   "outputs": [
    {
     "data": {
      "text/plain": [
       "device(type='cuda')"
      ]
     },
     "execution_count": 5,
     "metadata": {},
     "output_type": "execute_result"
    }
   ],
   "source": [
    "dir = \"/media/user/EVIMO/raw/imo/eval/scene15_dyn_test_01/left_camera/ground_truth_000000\"\n",
    "cache_dir = \"./data/EVIMO/obj_det_cache\"\n",
    "sensor_size = [640, 480, 2]\n",
    "batch_size = 4\n",
    "num_bins_per_frame = 8 # T = 100\n",
    "framerate = 200\n",
    "epochs=20\n",
    "output_size=(30, 40)\n",
    "input_size=(480, 640)\n",
    "num_classes = 25\n",
    "\n",
    "dtype=torch.float\n",
    "\n",
    "device = torch.device(\"cuda\") if torch.cuda.is_available() else torch.device(\"cpu\")\n",
    "device"
   ]
  },
  {
   "cell_type": "code",
   "execution_count": 6,
   "id": "e22b1e91-e46e-49ad-978b-02166931a9e6",
   "metadata": {},
   "outputs": [],
   "source": [
    "class EVIMOMask(Dataset):\n",
    "    def __init__(self,\n",
    "                 dir: str,\n",
    "                 num_bins_per_frame: int,\n",
    "                 output_size: Tuple,\n",
    "                ):\n",
    "        self.dir = dir\n",
    "        self.num_bins_per_frame = num_bins_per_frame\n",
    "        self.output_size = output_size\n",
    "        self.length = np.load(self.dir + \"/length.npy\")\n",
    "\n",
    "        \n",
    "        #print(self.length)\n",
    "        #self.start_idx = start_idx\n",
    "\n",
    "\n",
    "    def __getitem__(self, index):\n",
    "        item = np.load(self.dir + \"/\" + str(index) + \".npy\", allow_pickle=True).tolist()\n",
    "\n",
    "\n",
    "        events = np.asarray(item[\"events\"])\n",
    "\n",
    "        frame_transform = transforms.Compose([# transforms.Denoise(filter_time=0.01),\n",
    "                                       transforms.ToVoxelGrid(sensor_size=sensor_size,\n",
    "                                                          n_time_bins=self.num_bins_per_frame)\n",
    "                                      ])\n",
    "\n",
    "        events = frame_transform(events)\n",
    "\n",
    "        mask = torch.from_numpy(np.asarray([item[\"mask\"]])).to(torch.int64)\n",
    "\n",
    "        one_hot_mask = torch.nn.functional.one_hot(mask, num_classes=num_classes).transpose(1, 3).transpose(2, 3) # Conversion into Batch, Channels, H, W\n",
    "\n",
    "        # Downsize the mask.\n",
    "        resized_mask = tt.functional.resize(one_hot_mask, self.output_size, antialias=True)\n",
    "        \n",
    "        return torch.from_numpy(events).to(torch.float), resized_mask.squeeze()\n",
    "\n",
    "    def get_original_mask(self, index):\n",
    "        item = np.load(self.dir + \"/\" + str(index) + \".npy\", allow_pickle=True).tolist()\n",
    "        mask = torch.from_numpy(np.asarray([item[\"mask\"]])).to(torch.int64)\n",
    "        return mask\n",
    "\n",
    "    def __len__(self) -> int:\n",
    "        return self.length # - self.start_idx\n",
    "\n",
    "    def get_item(self, index):\n",
    "        item = np.load(self.dir + \"/\" + str(index) + \".npy\", allow_pickle=True).tolist()\n",
    "        return item\n",
    "    \n",
    "    "
   ]
  },
  {
   "cell_type": "code",
   "execution_count": 7,
   "id": "ada65f23-35f7-432f-8ce7-a2b5ac4973d7",
   "metadata": {},
   "outputs": [],
   "source": [
    "dataset = EVIMOMask(dir=\"./data/EVIMO/left_cam/scene13_test5\", output_size=output_size, num_bins_per_frame=num_bins_per_frame)"
   ]
  },
  {
   "cell_type": "code",
   "execution_count": 9,
   "id": "29ce451a-7367-42d2-9f95-b00262b1d8ae",
   "metadata": {},
   "outputs": [],
   "source": [
    "e, mask = dataset[0]"
   ]
  },
  {
   "cell_type": "code",
   "execution_count": 10,
   "id": "62ac7809-b415-41c7-8b74-a2b7b026e323",
   "metadata": {},
   "outputs": [
    {
     "data": {
      "text/plain": [
       "(torch.Size([25, 30, 40]), 30000)"
      ]
     },
     "execution_count": 10,
     "metadata": {},
     "output_type": "execute_result"
    }
   ],
   "source": [
    "num_output_elements = torch.numel(mask)\n",
    "mask.shape, num_output_elements"
   ]
  },
  {
   "cell_type": "code",
   "execution_count": 11,
   "id": "85d4284e-29af-480b-9733-9829a638becb",
   "metadata": {},
   "outputs": [
    {
     "data": {
      "text/plain": [
       "torch.Size([8, 1, 480, 640])"
      ]
     },
     "execution_count": 11,
     "metadata": {},
     "output_type": "execute_result"
    }
   ],
   "source": [
    "e.shape"
   ]
  },
  {
   "cell_type": "code",
   "execution_count": 12,
   "id": "a722ca3a-9151-481f-a617-bb31f151cb8b",
   "metadata": {},
   "outputs": [],
   "source": [
    "trainloader = DataLoader(dataset, batch_size=batch_size, shuffle=False)"
   ]
  },
  {
   "cell_type": "code",
   "execution_count": 13,
   "id": "a9d6590c-25e2-49fe-bad6-aa756fe22db1",
   "metadata": {},
   "outputs": [
    {
     "data": {
      "text/plain": [
       "torch.Size([8, 1, 480, 640])"
      ]
     },
     "execution_count": 13,
     "metadata": {},
     "output_type": "execute_result"
    }
   ],
   "source": [
    "events, resized_mask = next(iter(trainloader))\n",
    "events = events.to(device)\n",
    "events.shape\n",
    "events[0].shape"
   ]
  },
  {
   "cell_type": "code",
   "execution_count": 18,
   "id": "de9911c7-9034-4e94-b436-4473ae0e4626",
   "metadata": {},
   "outputs": [],
   "source": [
    "beta = 0.95\n",
    "\n",
    "# Define Network\n",
    "class Net(nn.Module):\n",
    "    def __init__(self):\n",
    "        super().__init__()\n",
    "\n",
    "        # Initialize layers\n",
    "        self.fc1 = nn.Linear(input_size[0] * input_size[1], 128)\n",
    "        self.lif1 = snn.Leaky(beta=beta)\n",
    "        self.fc2 = nn.Linear(128, output_size[0] * output_size[1] * num_classes)\n",
    "        self.lif2 = snn.Leaky(beta=beta)\n",
    "\n",
    "    def forward(self, data):\n",
    "        # Input data should be in format: Batch size, num_bins_per_frame, channel(1), x, y\n",
    "\n",
    "        # Initialize hidden states at t=0\n",
    "        mem1 = self.lif1.init_leaky()\n",
    "        mem2 = self.lif2.init_leaky()\n",
    "\n",
    "        # Record the final layer\n",
    "        spk2_rec = []\n",
    "        mem2_rec = []\n",
    "\n",
    "        current_batch_size = data.shape[0]\n",
    "        \n",
    "        data = data.transpose(0, 1) # Converting to num_bins_per_frame, batch_size, channel, x, y\n",
    "\n",
    "        \n",
    "\n",
    "        for step in range(num_bins_per_frame):\n",
    "            x = data[step].view(current_batch_size, -1)\n",
    "            cur1 = self.fc1(x)\n",
    "            spk1, mem1 = self.lif1(cur1, mem1)\n",
    "            cur2 = self.fc2(spk1)\n",
    "            spk2, mem2 = self.lif2(cur2, mem2)\n",
    "            spk2_rec.append(spk2.reshape(current_batch_size, num_classes, output_size[0], output_size[1]))\n",
    "            mem2_rec.append(mem2.reshape(current_batch_size, num_classes, output_size[0], output_size[1]))\n",
    "\n",
    "        return torch.stack(spk2_rec, dim=0), torch.stack(mem2_rec, dim=0)\n",
    "\n",
    "# Load the network onto CUDA if available\n",
    "net = Net().to(device)\n",
    "\n"
   ]
  },
  {
   "cell_type": "code",
   "execution_count": 19,
   "id": "7142d3ea-2e9d-4ebc-a145-f8d73af40079",
   "metadata": {},
   "outputs": [
    {
     "data": {
      "text/plain": [
       "torch.Size([8, 4, 25, 30, 40])"
      ]
     },
     "execution_count": 19,
     "metadata": {},
     "output_type": "execute_result"
    }
   ],
   "source": [
    "spk, mem = net(events)\n",
    "mem.shape"
   ]
  },
  {
   "cell_type": "code",
   "execution_count": 23,
   "id": "0e2317c4-3fff-4371-bd4a-036081f5611a",
   "metadata": {},
   "outputs": [],
   "source": [
    "def compare_masks(dataset, index, time_step):\n",
    "    data, mask = dataset[index]\n",
    "    data = data.to(device).to(torch.float)\n",
    "    data = data.reshape(1, 8, 1, 480, 640)\n",
    "    \n",
    "    spk_rec, mem_rec = net(data)\n",
    "\n",
    "    output_mask = mem_rec[time_step].squeeze().argmax(dim=0)\n",
    "    mask = mask.argmax(dim=0)\n",
    "\n",
    "    fig, axes = plt.subplots(ncols=2, nrows=1)\n",
    "    axes.ravel()[0].imshow(output_mask.tolist())\n",
    "    axes.ravel()[0].set_title(\"Model Generated\")\n",
    "    axes.ravel()[0].set_axis_off()\n",
    "    axes.ravel()[1].imshow(mask.tolist())\n",
    "    axes.ravel()[1].set_title(\"Original\")\n",
    "    axes.ravel()[1].set_axis_off()\n",
    "\n",
    "    plt.show()\n",
    "\n",
    "    return output_mask, mask"
   ]
  },
  {
   "cell_type": "code",
   "execution_count": 24,
   "id": "6caa261a-721b-4d54-8a13-e6526624d9cd",
   "metadata": {
    "scrolled": true
   },
   "outputs": [
    {
     "data": {
      "application/vnd.jupyter.widget-view+json": {
       "model_id": "628460edd0a1414bac927c3cd81cc104",
       "version_major": 2,
       "version_minor": 0
      },
      "text/plain": [
       "Epoch 0:   0%|          | 0/120 [00:00<?, ?it/s]"
      ]
     },
     "metadata": {},
     "output_type": "display_data"
    },
    {
     "data": {
      "image/png": "[encoded data removed]",
      "text/plain": [
       "<Figure size 640x480 with 2 Axes>"
      ]
     },
     "metadata": {},
     "output_type": "display_data"
    },
    {
     "data": {
      "application/vnd.jupyter.widget-view+json": {
       "model_id": "e680cb47e26941eca138fe158ca90117",
       "version_major": 2,
       "version_minor": 0
      },
      "text/plain": [
       "Epoch 1:   0%|          | 0/120 [00:00<?, ?it/s]"
      ]
     },
     "metadata": {},
     "output_type": "display_data"
    },
    {
     "data": {
      "image/png": "[encoded data removed]",
      "text/plain": [
       "<Figure size 640x480 with 2 Axes>"
      ]
     },
     "metadata": {},
     "output_type": "display_data"
    },
    {
     "data": {
      "application/vnd.jupyter.widget-view+json": {
       "model_id": "5a017f93607345adae278979462477e2",
       "version_major": 2,
       "version_minor": 0
      },
      "text/plain": [
       "Epoch 2:   0%|          | 0/120 [00:00<?, ?it/s]"
      ]
     },
     "metadata": {},
     "output_type": "display_data"
    },
    {
     "data": {
      "image/png": "[encoded data removed]",
      "text/plain": [
       "<Figure size 640x480 with 2 Axes>"
      ]
     },
     "metadata": {},
     "output_type": "display_data"
    },
    {
     "data": {
      "application/vnd.jupyter.widget-view+json": {
       "model_id": "27c67c8d9fcb4168a0438cc9fb2dc18c",
       "version_major": 2,
       "version_minor": 0
      },
      "text/plain": [
       "Epoch 3:   0%|          | 0/120 [00:00<?, ?it/s]"
      ]
     },
     "metadata": {},
     "output_type": "display_data"
    },
    {
     "data": {
      "image/png": "[encoded data removed]",
      "text/plain": [
       "<Figure size 640x480 with 2 Axes>"
      ]
     },
     "metadata": {},
     "output_type": "display_data"
    },
    {
     "data": {
      "application/vnd.jupyter.widget-view+json": {
       "model_id": "10de51f997904f4fa6f9b665cd08c391",
       "version_major": 2,
       "version_minor": 0
      },
      "text/plain": [
       "Epoch 4:   0%|          | 0/120 [00:00<?, ?it/s]"
      ]
     },
     "metadata": {},
     "output_type": "display_data"
    },
    {
     "data": {
      "image/png": "[encoded data removed]",
      "text/plain": [
       "<Figure size 640x480 with 2 Axes>"
      ]
     },
     "metadata": {},
     "output_type": "display_data"
    },
    {
     "data": {
      "application/vnd.jupyter.widget-view+json": {
       "model_id": "ebf2deb84eac4328b0c9d317492ef21a",
       "version_major": 2,
       "version_minor": 0
      },
      "text/plain": [
       "Epoch 5:   0%|          | 0/120 [00:00<?, ?it/s]"
      ]
     },
     "metadata": {},
     "output_type": "display_data"
    },
    {
     "data": {
      "image/png": "[encoded data removed]",
      "text/plain": [
       "<Figure size 640x480 with 2 Axes>"
      ]
     },
     "metadata": {},
     "output_type": "display_data"
    },
    {
     "data": {
      "application/vnd.jupyter.widget-view+json": {
       "model_id": "7f5ca64f7e5a4200a8544a2e84200117",
       "version_major": 2,
       "version_minor": 0
      },
      "text/plain": [
       "Epoch 6:   0%|          | 0/120 [00:00<?, ?it/s]"
      ]
     },
     "metadata": {},
     "output_type": "display_data"
    },
    {
     "data": {
      "image/png": "[encoded data removed]",
      "text/plain": [
       "<Figure size 640x480 with 2 Axes>"
      ]
     },
     "metadata": {},
     "output_type": "display_data"
    },
    {
     "data": {
      "application/vnd.jupyter.widget-view+json": {
       "model_id": "6e9bc4d03cdd435eb0f29fd81cf5ba14",
       "version_major": 2,
       "version_minor": 0
      },
      "text/plain": [
       "Epoch 7:   0%|          | 0/120 [00:00<?, ?it/s]"
      ]
     },
     "metadata": {},
     "output_type": "display_data"
    },
    {
     "data": {
      "image/png": "[encoded data removed]",
      "text/plain": [
       "<Figure size 640x480 with 2 Axes>"
      ]
     },
     "metadata": {},
     "output_type": "display_data"
    },
    {
     "data": {
      "application/vnd.jupyter.widget-view+json": {
       "model_id": "da4f17b221904b9ca305421b3bd2be1c",
       "version_major": 2,
       "version_minor": 0
      },
      "text/plain": [
       "Epoch 8:   0%|          | 0/120 [00:00<?, ?it/s]"
      ]
     },
     "metadata": {},
     "output_type": "display_data"
    },
    {
     "data": {
      "image/png": "[encoded data removed]",
      "text/plain": [
       "<Figure size 640x480 with 2 Axes>"
      ]
     },
     "metadata": {},
     "output_type": "display_data"
    },
    {
     "data": {
      "application/vnd.jupyter.widget-view+json": {
       "model_id": "c6f969f325a44e10a5494ac0bf260339",
       "version_major": 2,
       "version_minor": 0
      },
      "text/plain": [
       "Epoch 9:   0%|          | 0/120 [00:00<?, ?it/s]"
      ]
     },
     "metadata": {},
     "output_type": "display_data"
    },
    {
     "data": {
      "image/png": "[encoded data removed]",
      "text/plain": [
       "<Figure size 640x480 with 2 Axes>"
      ]
     },
     "metadata": {},
     "output_type": "display_data"
    },
    {
     "data": {
      "application/vnd.jupyter.widget-view+json": {
       "model_id": "5c10b228cb6e4ac1a93b0ffc4a5d230c",
       "version_major": 2,
       "version_minor": 0
      },
      "text/plain": [
       "Epoch 10:   0%|          | 0/120 [00:00<?, ?it/s]"
      ]
     },
     "metadata": {},
     "output_type": "display_data"
    },
    {
     "data": {
      "image/png": "[encoded data removed]",
      "text/plain": [
       "<Figure size 640x480 with 2 Axes>"
      ]
     },
     "metadata": {},
     "output_type": "display_data"
    },
    {
     "data": {
      "application/vnd.jupyter.widget-view+json": {
       "model_id": "de38df1676cd43c5b52e90c0155154ce",
       "version_major": 2,
       "version_minor": 0
      },
      "text/plain": [
       "Epoch 11:   0%|          | 0/120 [00:00<?, ?it/s]"
      ]
     },
     "metadata": {},
     "output_type": "display_data"
    },
    {
     "data": {
      "image/png": "[encoded data removed]",
      "text/plain": [
       "<Figure size 640x480 with 2 Axes>"
      ]
     },
     "metadata": {},
     "output_type": "display_data"
    },
    {
     "data": {
      "application/vnd.jupyter.widget-view+json": {
       "model_id": "d03c898082eb4021af6c16149eada640",
       "version_major": 2,
       "version_minor": 0
      },
      "text/plain": [
       "Epoch 12:   0%|          | 0/120 [00:00<?, ?it/s]"
      ]
     },
     "metadata": {},
     "output_type": "display_data"
    },
    {
     "data": {
      "image/png": "[encoded data removed]",
      "text/plain": [
       "<Figure size 640x480 with 2 Axes>"
      ]
     },
     "metadata": {},
     "output_type": "display_data"
    },
    {
     "data": {
      "application/vnd.jupyter.widget-view+json": {
       "model_id": "a342d18f609344f4bbdd5d3f61c4e2a1",
       "version_major": 2,
       "version_minor": 0
      },
      "text/plain": [
       "Epoch 13:   0%|          | 0/120 [00:00<?, ?it/s]"
      ]
     },
     "metadata": {},
     "output_type": "display_data"
    },
    {
     "data": {
      "image/png": "[encoded data removed]",
      "text/plain": [
       "<Figure size 640x480 with 2 Axes>"
      ]
     },
     "metadata": {},
     "output_type": "display_data"
    },
    {
     "data": {
      "application/vnd.jupyter.widget-view+json": {
       "model_id": "cf306ac7f30d4c72a4c340f7bc11d792",
       "version_major": 2,
       "version_minor": 0
      },
      "text/plain": [
       "Epoch 14:   0%|          | 0/120 [00:00<?, ?it/s]"
      ]
     },
     "metadata": {},
     "output_type": "display_data"
    },
    {
     "data": {
      "image/png": "[encoded data removed]",
      "text/plain": [
       "<Figure size 640x480 with 2 Axes>"
      ]
     },
     "metadata": {},
     "output_type": "display_data"
    },
    {
     "data": {
      "application/vnd.jupyter.widget-view+json": {
       "model_id": "573588d41bd549f389eab7bd72739100",
       "version_major": 2,
       "version_minor": 0
      },
      "text/plain": [
       "Epoch 15:   0%|          | 0/120 [00:00<?, ?it/s]"
      ]
     },
     "metadata": {},
     "output_type": "display_data"
    },
    {
     "data": {
      "image/png": "[encoded data removed]",
      "text/plain": [
       "<Figure size 640x480 with 2 Axes>"
      ]
     },
     "metadata": {},
     "output_type": "display_data"
    },
    {
     "data": {
      "application/vnd.jupyter.widget-view+json": {
       "model_id": "d2810eaee6a74f03b269aef71c2f82a1",
       "version_major": 2,
       "version_minor": 0
      },
      "text/plain": [
       "Epoch 16:   0%|          | 0/120 [00:00<?, ?it/s]"
      ]
     },
     "metadata": {},
     "output_type": "display_data"
    },
    {
     "data": {
      "image/png": "[encoded data removed]",
      "text/plain": [
       "<Figure size 640x480 with 2 Axes>"
      ]
     },
     "metadata": {},
     "output_type": "display_data"
    },
    {
     "data": {
      "application/vnd.jupyter.widget-view+json": {
       "model_id": "ad7fb2cc6a504abe97c64b460c23dbaa",
       "version_major": 2,
       "version_minor": 0
      },
      "text/plain": [
       "Epoch 17:   0%|          | 0/120 [00:00<?, ?it/s]"
      ]
     },
     "metadata": {},
     "output_type": "display_data"
    },
    {
     "data": {
      "image/png": "[encoded data removed]",
      "text/plain": [
       "<Figure size 640x480 with 2 Axes>"
      ]
     },
     "metadata": {},
     "output_type": "display_data"
    },
    {
     "data": {
      "application/vnd.jupyter.widget-view+json": {
       "model_id": "c92d5abce95740adbce67a8d1372e6f8",
       "version_major": 2,
       "version_minor": 0
      },
      "text/plain": [
       "Epoch 18:   0%|          | 0/120 [00:00<?, ?it/s]"
      ]
     },
     "metadata": {},
     "output_type": "display_data"
    },
    {
     "data": {
      "image/png": "[encoded data removed]",
      "text/plain": [
       "<Figure size 640x480 with 2 Axes>"
      ]
     },
     "metadata": {},
     "output_type": "display_data"
    },
    {
     "data": {
      "application/vnd.jupyter.widget-view+json": {
       "model_id": "730dd16846b44052948c73e99defb570",
       "version_major": 2,
       "version_minor": 0
      },
      "text/plain": [
       "Epoch 19:   0%|          | 0/120 [00:00<?, ?it/s]"
      ]
     },
     "metadata": {},
     "output_type": "display_data"
    },
    {
     "data": {
      "image/png": "[encoded data removed]",
      "text/plain": [
       "<Figure size 640x480 with 2 Axes>"
      ]
     },
     "metadata": {},
     "output_type": "display_data"
    }
   ],
   "source": [
    "loss_hist = []\n",
    "test_loss_hist = []\n",
    "counter = 0\n",
    "\n",
    "loss = nn.CrossEntropyLoss()\n",
    "optimizer = torch.optim.Adam(net.parameters(), lr=5e-3, betas=(0.9, 0.999))\n",
    "\n",
    "# Outer training loop\n",
    "for epoch in range(epochs):\n",
    "    iter_counter = 0\n",
    "    \n",
    "    #train_batch = iter(trainloader)\n",
    "    train_batch = tqdm(iter(trainloader), desc=f\"Epoch {epoch}\")\n",
    "\n",
    "    # Minibatch training loop\n",
    "    acc_each_batch = []\n",
    "    for data, masks in train_batch:\n",
    "        data = data.to(device).to(torch.float)\n",
    "        masks = masks.to(device).to(torch.float)\n",
    "\n",
    "        #print(data.shape)\n",
    "        current_batch_size = data.shape[0]\n",
    "        #print(data.view(batch_size, -1).shape)\n",
    "        #print(masks.shape)\n",
    "\n",
    "        # forward pass\n",
    "        net.train()\n",
    "        spk_rec, mem_rec = net(data)\n",
    "\n",
    "        # initialize the loss & sum over time\n",
    "        loss_val = torch.zeros((1), dtype=dtype, device=device)\n",
    "        acc_each_step = []\n",
    "        for step in range(num_bins_per_frame):\n",
    "            loss_val += loss(mem_rec[step], masks)\n",
    "\n",
    "        #     # Getting accuracy\n",
    "        #     with torch.no_grad():\n",
    "        #         net.eval()\n",
    "                \n",
    "        #         curr_pred_mask = mem_rec[step].argmax(dim=1) # Converted into a mask that isn't one-hot. Dim 1 because 0 is batch size\n",
    "        #         curr_true_mask = masks.argmax(dim=1)\n",
    "    \n",
    "        #         correct_class_mask = (curr_pred_mask == curr_true_mask).to(torch.float)\n",
    "    \n",
    "        #         pixel_based_batch_acc = correct_class_mask.count_nonzero() / correct_class_mask.numel()\n",
    "        #         acc_each_step.append(pixel_based_batch_acc.item())\n",
    "\n",
    "        \n",
    "        # acc_each_batch.append(mean(acc_each_step))\n",
    "\n",
    "        net.train()\n",
    "        \n",
    "        # Gradient calculation + weight update\n",
    "        optimizer.zero_grad()\n",
    "        loss_val.backward()\n",
    "        optimizer.step()\n",
    "\n",
    "        # Store loss history for future plotting\n",
    "        loss_hist.append(loss_val.item())\n",
    "\n",
    "    #print(f\"Mean Pixel-Based Accuracy for all Steps & Batches: {mean(acc_each_batch)}\")\n",
    "\n",
    "    with torch.no_grad():\n",
    "        net.eval()\n",
    "        compare_masks(dataset, index=0, time_step=0)"
   ]
  },
  {
   "cell_type": "code",
   "execution_count": 26,
   "id": "04a6e935-10a7-42a6-b72d-4fbcf7635287",
   "metadata": {},
   "outputs": [],
   "source": [
    "torch.save(net, \"evimo_img_segmentation_model\")"
   ]
  },
  {
   "cell_type": "code",
   "execution_count": 22,
   "id": "7eb2b93e-4f1c-44e1-91ad-83b6c35c9a40",
   "metadata": {},
   "outputs": [
    {
     "data": {
      "text/plain": [
       "120000"
      ]
     },
     "execution_count": 22,
     "metadata": {},
     "output_type": "execute_result"
    }
   ],
   "source": [
    "25*30*40*batch_size"
   ]
  },
  {
   "cell_type": "code",
   "execution_count": 27,
   "id": "f3bb3cf1-53e2-4065-9233-7be584e72f5b",
   "metadata": {},
   "outputs": [
    {
     "data": {
      "image/png": "[encoded data removed]",
      "text/plain": [
       "<Figure size 640x480 with 2 Axes>"
      ]
     },
     "metadata": {},
     "output_type": "display_data"
    },
    {
     "data": {
      "text/plain": [
       "(tensor([[ 9,  9,  9,  ...,  0,  0,  0],\n",
       "         [ 0,  9,  9,  ...,  0,  0,  0],\n",
       "         [ 0,  9,  9,  ...,  0,  0,  0],\n",
       "         ...,\n",
       "         [22, 22, 22,  ..., 22, 22, 22],\n",
       "         [22, 22, 22,  ..., 22, 22, 22],\n",
       "         [22, 22, 22,  ..., 22, 22, 22]], device='cuda:0'),\n",
       " tensor([[ 9,  9,  9,  ...,  0,  0,  0],\n",
       "         [ 0,  9,  9,  ...,  0,  0,  0],\n",
       "         [ 0,  9,  9,  ...,  0,  0,  0],\n",
       "         ...,\n",
       "         [22, 22, 22,  ..., 22, 22, 22],\n",
       "         [22, 22, 22,  ..., 22, 22, 22],\n",
       "         [22, 22, 22,  ..., 22, 22, 22]]))"
      ]
     },
     "execution_count": 27,
     "metadata": {},
     "output_type": "execute_result"
    }
   ],
   "source": [
    "compare_masks(dataset, index=0, time_step=0)"
   ]
  },
  {
   "cell_type": "code",
   "execution_count": 30,
   "id": "99098304-90ee-460c-9de6-712cc27bec03",
   "metadata": {},
   "outputs": [
    {
     "name": "stdout",
     "output_type": "stream",
     "text": [
      "Net(\n",
      "  (fc1): Linear(in_features=307200, out_features=128, bias=True)\n",
      "  (lif1): Leaky()\n",
      "  (fc2): Linear(in_features=128, out_features=30000, bias=True)\n",
      "  (lif2): Leaky()\n",
      ")\n"
     ]
    }
   ],
   "source": [
    "print(net)"
   ]
  },
  {
   "cell_type": "code",
   "execution_count": 29,
   "id": "cc186394-237d-4205-92ba-2c3162aaae08",
   "metadata": {},
   "outputs": [
    {
     "name": "stdout",
     "output_type": "stream",
     "text": [
      "OrderedDict([('fc1.weight', tensor([[-0.0344,  0.0172,  0.0256,  ..., -0.0739, -0.0443, -0.0340],\n",
      "        [-0.0342, -0.1113, -0.0363,  ..., -0.0589, -0.0342, -0.0316],\n",
      "        [-0.0008,  0.0061,  0.0366,  ..., -0.1779, -0.0932, -0.0211],\n",
      "        ...,\n",
      "        [-0.0386, -0.0220,  0.0140,  ..., -0.0781, -0.0431, -0.0177],\n",
      "        [ 0.2198,  0.0445,  0.1861,  ...,  0.0821,  0.1048,  0.0974],\n",
      "        [-0.0333, -0.0534, -0.0902,  ..., -0.0410, -0.0348, -0.0169]],\n",
      "       device='cuda:0')), ('fc1.bias', tensor([-0.0802, -0.0643, -0.1076, -0.0793, -0.0866, -0.1526, -0.1271, -0.0076,\n",
      "        -0.2174, -0.0282, -0.0683, -0.0064,  0.0602, -0.0861,  0.1320, -0.0241,\n",
      "         0.0292, -0.3047, -0.1237, -0.0170, -0.2514, -0.0245, -0.1506, -0.1569,\n",
      "        -0.1373,  0.0082, -0.1052,  0.0559, -0.1727, -0.0812, -0.0138, -0.0149,\n",
      "        -0.0144, -0.0186, -0.0612, -0.0718, -0.0936, -0.0604,  0.0264, -0.1062,\n",
      "        -0.0885, -0.0129, -0.0895, -0.1246, -0.0863, -0.0274, -0.0400,  0.0096,\n",
      "        -0.1238,  0.0534, -0.1010, -0.2946,  0.0781, -0.0282, -0.1321, -0.0566,\n",
      "        -0.0215, -0.1246,  0.0869,  0.1928, -0.0769, -0.0549, -0.1725, -0.1487,\n",
      "         0.0826, -0.0654, -0.1785, -0.1298, -0.1233, -0.1741, -0.0798, -0.0388,\n",
      "        -0.0701,  0.0251,  0.1115, -0.0462, -0.0952, -0.1230, -0.1306, -0.1435,\n",
      "        -0.0005,  0.0147, -0.0913, -0.0894, -0.1312, -0.1483, -0.0358, -0.1075,\n",
      "        -0.1210, -0.0711, -0.0848, -0.0759, -0.0651, -0.0765, -0.1134, -0.1526,\n",
      "        -0.0864, -0.2695,  0.0440,  0.0737, -0.0536, -0.1592,  0.0249, -0.0774,\n",
      "        -0.0185, -0.2156,  0.0883, -0.0652, -0.1145, -0.0841,  0.0544, -0.0879,\n",
      "        -0.0830,  0.0973,  0.0151, -0.1348, -0.1643, -0.0928, -0.1704, -0.0869,\n",
      "        -0.0809, -0.0997, -0.0347,  0.0320, -0.0250, -0.0769, -0.0285, -0.1049],\n",
      "       device='cuda:0')), ('lif1.threshold', tensor(1., device='cuda:0')), ('lif1.graded_spikes_factor', tensor(1., device='cuda:0')), ('lif1.reset_mechanism_val', tensor(0, device='cuda:0')), ('lif1.beta', tensor(0.9500, device='cuda:0')), ('fc2.weight', tensor([[-0.3608, -0.1462, -0.9295,  ..., -0.0523, -1.4013, -0.3296],\n",
      "        [-0.1331, -0.1095, -0.4538,  ..., -0.1225, -0.4717, -0.3203],\n",
      "        [-0.1504, -0.1347, -0.2543,  ..., -0.0497, -0.4027, -0.2647],\n",
      "        ...,\n",
      "        [-0.2765, -0.1672, -0.5376,  ..., -0.0941, -0.2818, -0.1035],\n",
      "        [-0.1894, -0.1866, -0.3981,  ..., -0.1593, -0.3617, -0.2625],\n",
      "        [-0.3326, -0.0330, -0.3222,  ..., -0.0878, -0.4654, -0.1740]],\n",
      "       device='cuda:0')), ('fc2.bias', tensor([-0.0080, -0.5102, -0.5150,  ..., -0.4950, -0.5684, -0.5160],\n",
      "       device='cuda:0')), ('lif2.threshold', tensor(1., device='cuda:0')), ('lif2.graded_spikes_factor', tensor(1., device='cuda:0')), ('lif2.reset_mechanism_val', tensor(0, device='cuda:0')), ('lif2.beta', tensor(0.9500, device='cuda:0'))])\n"
     ]
    }
   ],
   "source": [
    "print(net.state_dict())"
   ]
  },
  {
   "cell_type": "code",
   "execution_count": null,
   "id": "49486bbf-be5f-4d51-8431-f994406939dd",
   "metadata": {},
   "outputs": [],
   "source": []
  },
  {
   "cell_type": "code",
   "execution_count": null,
   "id": "db9bd533-8c34-4e09-a39d-cf084d159135",
   "metadata": {},
   "outputs": [],
   "source": []
  }
 ],
 "metadata": {
  "kernelspec": {
   "display_name": "Python 3 (ipykernel)",
   "language": "python",
   "name": "python3"
  },
  "language_info": {
   "codemirror_mode": {
    "name": "ipython",
    "version": 3
   },
   "file_extension": ".py",
   "mimetype": "text/x-python",
   "name": "python",
   "nbconvert_exporter": "python",
   "pygments_lexer": "ipython3",
   "version": "3.10.12"
  }
 },
 "nbformat": 4,
 "nbformat_minor": 5
}
